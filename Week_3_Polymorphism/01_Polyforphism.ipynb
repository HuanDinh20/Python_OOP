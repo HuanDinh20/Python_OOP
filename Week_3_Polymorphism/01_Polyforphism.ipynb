{
 "cells": [
  {
   "cell_type": "markdown",
   "source": [
    "# Polymorphism\n",
    "Cambridge dictionary: the fact that something such as an animal or organism can exist in different forms\n",
    "## Objectives\n",
    "**Define polymorphism**\n",
    "**Explain how method overriding is an example of polymorphism**\n",
    "**Overload a method**\n",
    "**Overload an operator**\n",
    "**Define duck typing**\n",
    "\n",
    "## Method Overriding\n",
    "#### What is Polymorphism?\n",
    "Polymorphism is a concept in object-oriented programming in which a single interface is applicable with different types. Often this means similar operations are grouped together with the same name. However, these operations with the same name will produce different results."
   ],
   "metadata": {
    "collapsed": false,
    "pycharm": {
     "name": "#%% md\n"
    }
   }
  },
  {
   "cell_type": "code",
   "execution_count": 1,
   "outputs": [
    {
     "name": "stdout",
     "output_type": "stream",
     "text": [
      "11\n",
      "ab\n"
     ]
    }
   ],
   "source": [
    "a, b = 5, 6\n",
    "print(a + b)\n",
    "c, d = 'a', 'b'\n",
    "print(c + d)"
   ],
   "metadata": {
    "collapsed": false,
    "pycharm": {
     "name": "#%%\n"
    }
   }
  },
  {
   "cell_type": "markdown",
   "source": [
    "Notice how the plus operator can add together two numbers and\n",
    "concatenate two strings. You have a single interface (the plus operator)\n",
    "working with different data types (integers and strings). This is an\n",
    "example of polymorphism."
   ],
   "metadata": {
    "collapsed": false,
    "pycharm": {
     "name": "#%% md\n"
    }
   }
  },
  {
   "cell_type": "code",
   "execution_count": 3,
   "outputs": [
    {
     "name": "stdout",
     "output_type": "stream",
     "text": [
      "unsupported operand type(s) for +: 'int' and 'str'\n"
     ]
    }
   ],
   "source": [
    "a = 5\n",
    "b = '10'\n",
    "try:\n",
    "    print(a + b)\n",
    "except TypeError as te:\n",
    "    print(te)"
   ],
   "metadata": {
    "collapsed": false,
    "pycharm": {
     "name": "#%%\n"
    }
   }
  },
  {
   "cell_type": "markdown",
   "source": [
    "Polymorphism allows Python to use the plus operator with different\n",
    "data types, but that does not mean that the plus operator can be used\n",
    "with all data types. The example above causes an error message\n",
    "because the plus operator cannot be used with an integer and a string.\n",
    "There are limits to polymorphism"
   ],
   "metadata": {
    "collapsed": false,
    "pycharm": {
     "name": "#%% md\n"
    }
   }
  },
  {
   "cell_type": "markdown",
   "source": [
    "### Method Overriding\n",
    "Method overriding is another example of polymorphism that you have already seen.\n",
    "\n",
    "Overriding a method means that you have two methods with the same name, but they perform different tasks. Again you see a single\n",
    "interface (the method name) being used with different forms (the parent class and the child class)."
   ],
   "metadata": {
    "collapsed": false,
    "pycharm": {
     "name": "#%% md\n"
    }
   }
  },
  {
   "cell_type": "code",
   "execution_count": 5,
   "outputs": [],
   "source": [
    "class Alpha:\n",
    "    def show(self):\n",
    "        print(\"I'm from Alpha\")\n",
    "\n",
    "class Beta(Alpha):\n",
    "    def show(self):\n",
    "        print(\"I'm from Beta\")"
   ],
   "metadata": {
    "collapsed": false,
    "pycharm": {
     "name": "#%%\n"
    }
   }
  },
  {
   "cell_type": "code",
   "execution_count": 6,
   "outputs": [
    {
     "name": "stdout",
     "output_type": "stream",
     "text": [
      "I'm from Alpha\n",
      "I'm from Beta\n"
     ]
    }
   ],
   "source": [
    "a = Alpha()\n",
    "a.show()\n",
    "b = Beta()\n",
    "b.show()"
   ],
   "metadata": {
    "collapsed": false,
    "pycharm": {
     "name": "#%%\n"
    }
   }
  },
  {
   "cell_type": "code",
   "execution_count": 8,
   "outputs": [
    {
     "name": "stdout",
     "output_type": "stream",
     "text": [
      "Hello from Alpha\n"
     ]
    }
   ],
   "source": [
    "class Alpha:\n",
    "    def show(self):\n",
    "        print(\"I am from class Alpha\")\n",
    "    def hello(self):\n",
    "        print(\"Hello from Alpha\")\n",
    "\n",
    "class Bravo(Alpha):\n",
    "    def show(self):\n",
    "        print(\"I am from class Bravo\")\n",
    "    def hello(self):\n",
    "        print(\"Hello from Bravo\")\n",
    "test_object = Alpha()\n",
    "test_object.hello()"
   ],
   "metadata": {
    "collapsed": false,
    "pycharm": {
     "name": "#%%\n"
    }
   }
  },
  {
   "cell_type": "markdown",
   "source": [
    "## Method Overloading\n",
    "Method overloading is another example of polymorphism. Method overloading occurs when you have a single method name that can take\n",
    "different sets of parameters.\n"
   ],
   "metadata": {
    "collapsed": false,
    "pycharm": {
     "name": "#%% md\n"
    }
   }
  },
  {
   "cell_type": "code",
   "execution_count": 14,
   "outputs": [
    {
     "data": {
      "text/plain": "18"
     },
     "execution_count": 14,
     "metadata": {},
     "output_type": "execute_result"
    }
   ],
   "source": [
    "class TestSum:\n",
    "\n",
    "    def sum(self, a, b):\n",
    "        return a + b\n",
    "\n",
    "    def sum(self, a, b, c):\n",
    "        return a + b + c\n",
    "\n",
    "b = TestSum()\n",
    "b.sum(5, 6, 7)"
   ],
   "metadata": {
    "collapsed": false,
    "pycharm": {
     "name": "#%%\n"
    }
   }
  },
  {
   "cell_type": "code",
   "execution_count": 17,
   "outputs": [
    {
     "name": "stdout",
     "output_type": "stream",
     "text": [
      "sum() missing 1 required positional argument: 'c'\n"
     ]
    }
   ],
   "source": [
    "try:\n",
    "    b.sum(1,2)\n",
    "except TypeError as t:\n",
    "    print(t)"
   ],
   "metadata": {
    "collapsed": false,
    "pycharm": {
     "name": "#%%\n"
    }
   }
  },
  {
   "cell_type": "markdown",
   "source": [
    "Why did Python not determine that this method should be used instead? When two or more methods have the same name, Python only recognizes the last method. All of the others are ignored. That is why you got an error message. Python only recognizes the second sum method"
   ],
   "metadata": {
    "collapsed": false,
    "pycharm": {
     "name": "#%% md\n"
    }
   }
  },
  {
   "cell_type": "markdown",
   "source": [
    "Instead, you should create a method with optional parameters. Set the\n",
    "default for each parameter to None. By structuring the parameters in this way, you can\n",
    "overload the sum method to work in many different situations. This is how method overloading promotes polymorphism"
   ],
   "metadata": {
    "collapsed": false,
    "pycharm": {
     "name": "#%% md\n"
    }
   }
  },
  {
   "cell_type": "code",
   "execution_count": 18,
   "outputs": [
    {
     "name": "stdout",
     "output_type": "stream",
     "text": [
      "0\n",
      "1\n",
      "3\n",
      "6\n"
     ]
    }
   ],
   "source": [
    "class TestClass:\n",
    "    def sum(self, a = None, b = None, c = None):\n",
    "        if a is not None and b is not None and c is not None:\n",
    "            return a + b + c\n",
    "        elif a is not None and b is not None:\n",
    "            return a + b\n",
    "        elif a is not None:\n",
    "            return a\n",
    "        else:\n",
    "            return 0\n",
    "obj = TestClass()\n",
    "print(obj.sum())\n",
    "print(obj.sum(1))\n",
    "print(obj.sum(1, 2))\n",
    "print(obj.sum(1, 2, 3))"
   ],
   "metadata": {
    "collapsed": false,
    "pycharm": {
     "name": "#%%\n"
    }
   }
  },
  {
   "cell_type": "markdown",
   "source": [
    "Add on to the sum method such that it can take up to five numbers as\n",
    "parameters. Be sure to test all possible method calls.\n",
    "Solution\n",
    "The compound conditionals have been broken up over several lines\n",
    "to help with legibility. To do this, you need to use the parentheses."
   ],
   "metadata": {
    "collapsed": false,
    "pycharm": {
     "name": "#%% md\n"
    }
   }
  },
  {
   "cell_type": "code",
   "execution_count": 19,
   "outputs": [
    {
     "name": "stdout",
     "output_type": "stream",
     "text": [
      "0\n",
      "1\n",
      "3\n",
      "6\n",
      "10\n",
      "15\n"
     ]
    }
   ],
   "source": [
    "class TestClass:\n",
    "    def sum(self, a = None, b = None, c = None, d = None, e = None):\n",
    "        if (    a is not None and\n",
    "                b is not None and\n",
    "                c is not None and\n",
    "                d is not None and\n",
    "                e is not None):\n",
    "            return a + b + c + d + e\n",
    "        elif (  a is not None and\n",
    "                b is not None and\n",
    "                c is not None and\n",
    "                d is not None):\n",
    "            return a + b + c + d\n",
    "        elif (  a is not None and\n",
    "                b is not None and\n",
    "                c is not None):\n",
    "            return a + b + c\n",
    "        elif a is not None and b is not None:\n",
    "            return a + b\n",
    "        elif a is not None:\n",
    "            return a\n",
    "        else:\n",
    "            return 0\n",
    "obj = TestClass()\n",
    "print(obj.sum())\n",
    "print(obj.sum(1))\n",
    "print(obj.sum(1, 2))\n",
    "print(obj.sum(1, 2, 3))\n",
    "print(obj.sum(1, 2, 3, 4))\n",
    "print(obj.sum(1, 2, 3, 4, 5))\n"
   ],
   "metadata": {
    "collapsed": false,
    "pycharm": {
     "name": "#%%\n"
    }
   }
  },
  {
   "cell_type": "markdown",
   "source": [
    "### The None Type\n",
    "Why not replace None as the default parameter with 0? After all, zero represents the lack of a value. Enter the following code in the IDE and run the script"
   ],
   "metadata": {
    "collapsed": false,
    "pycharm": {
     "name": "#%% md\n"
    }
   }
  },
  {
   "cell_type": "code",
   "execution_count": 26,
   "outputs": [
    {
     "name": "stdout",
     "output_type": "stream",
     "text": [
      "0\n"
     ]
    }
   ],
   "source": [
    "class TestClass:\n",
    "    def sum(self, a = 0, b = 0, c = 0):\n",
    "        if a != 0 and b != 0 and c != 0:\n",
    "            return a + b + c\n",
    "        elif a != 0 and b != 0:\n",
    "            return a + b\n",
    "        elif a != 0:\n",
    "            return a\n",
    "        else:\n",
    "            return 0\n",
    "obj = TestClass()\n",
    "print(obj.sum(0, 2))"
   ],
   "metadata": {
    "collapsed": false,
    "pycharm": {
     "name": "#%%\n"
    }
   }
  },
  {
   "cell_type": "markdown",
   "source": [
    "Instead, Python returned 0. This is because zero is\n",
    "not nothing. Zero is an integer. When you want to have a placeholder for\n",
    "the absence of a value, None is the preferable choice. This is a common\n",
    "practice in Python"
   ],
   "metadata": {
    "collapsed": false,
    "pycharm": {
     "name": "#%% md\n"
    }
   }
  },
  {
   "cell_type": "markdown",
   "source": [
    "## Operator Overloading\n",
    "You saw in the beginning of this chapter that the plus operator can be used with strings and integers.\n",
    "\n",
    "When a single operator can be used with many data types, this is called operator overloading. Operator overloading is another example of polymorphism."
   ],
   "metadata": {
    "collapsed": false,
    "pycharm": {
     "name": "#%% md\n"
    }
   }
  },
  {
   "cell_type": "code",
   "execution_count": 27,
   "outputs": [
    {
     "name": "stdout",
     "output_type": "stream",
     "text": [
      "15\n",
      "polymorphismpolymorphismpolymorphism\n"
     ]
    }
   ],
   "source": [
    "my_string = \"polymorphism\"\n",
    "num1 = 3\n",
    "num2 = 5\n",
    "print(num1 * num2)\n",
    "print(my_string * num1)"
   ],
   "metadata": {
    "collapsed": false,
    "pycharm": {
     "name": "#%%\n"
    }
   }
  },
  {
   "cell_type": "raw",
   "source": [
    "In Python, everything is an object. So when you write num1 * num2 what\n",
    "you are really saying is that the integer class (int) is calling the multiply\n",
    "method (__mul__), and num1 and num2 are the parameters for this method.\n",
    "Here is what that looks like in code"
   ],
   "metadata": {
    "collapsed": false,
    "pycharm": {
     "name": "#%% raw\n"
    }
   }
  },
  {
   "cell_type": "code",
   "execution_count": 3,
   "outputs": [
    {
     "name": "stdout",
     "output_type": "stream",
     "text": [
      "15\n"
     ]
    }
   ],
   "source": [
    "num1 = 3\n",
    "num2 = 5\n",
    "print(int.__mul__(num1, num2))"
   ],
   "metadata": {
    "collapsed": false,
    "pycharm": {
     "name": "#%%\n"
    }
   }
  },
  {
   "cell_type": "code",
   "execution_count": 29,
   "outputs": [
    {
     "data": {
      "text/plain": "0.6"
     },
     "execution_count": 29,
     "metadata": {},
     "output_type": "execute_result"
    }
   ],
   "source": [
    "int.__truediv__(num1, num2)"
   ],
   "metadata": {
    "collapsed": false,
    "pycharm": {
     "name": "#%%\n"
    }
   }
  },
  {
   "cell_type": "code",
   "execution_count": 4,
   "outputs": [
    {
     "name": "stdout",
     "output_type": "stream",
     "text": [
      "8\n",
      "-2\n"
     ]
    }
   ],
   "source": [
    "print(int.__add__(num1, num2))\n",
    "print(int.__sub__(num1, num2))"
   ],
   "metadata": {
    "collapsed": false,
    "pycharm": {
     "name": "#%%\n"
    }
   }
  },
  {
   "cell_type": "code",
   "execution_count": null,
   "outputs": [],
   "source": [],
   "metadata": {
    "collapsed": false,
    "pycharm": {
     "name": "#%%\n"
    }
   }
  },
  {
   "cell_type": "markdown",
   "source": [
    "### Operator Overloading and User-Defined Classes\n",
    "\n",
    "You have seen how you can overload operators for built-in classes, but you can also overload operators for classes that you create. Imagine there is a class called FinancialAccount which has two subclasses BankAccount and InvestmentAccount. Create instances of each subclass"
   ],
   "metadata": {
    "collapsed": false,
    "pycharm": {
     "name": "#%% md\n"
    }
   }
  },
  {
   "cell_type": "code",
   "execution_count": 1,
   "outputs": [],
   "source": [
    "class FinancialAccount:\n",
    "    def __init__(self, amount):\n",
    "        self.account = amount\n",
    "\n",
    "class BankAccount(FinancialAccount):\n",
    "    pass\n",
    "class InvestmentAccount(FinancialAccount):\n",
    "    pass\n",
    "my_banking = BankAccount(500)\n",
    "my_investments = InvestmentAccount(750)"
   ],
   "metadata": {
    "collapsed": false,
    "pycharm": {
     "name": "#%%\n"
    }
   }
  },
  {
   "cell_type": "code",
   "execution_count": 2,
   "outputs": [
    {
     "data": {
      "text/plain": "750"
     },
     "execution_count": 2,
     "metadata": {},
     "output_type": "execute_result"
    }
   ],
   "source": [
    "my_investments.account"
   ],
   "metadata": {
    "collapsed": false,
    "pycharm": {
     "name": "#%%\n"
    }
   }
  },
  {
   "cell_type": "markdown",
   "source": [
    "What we would like to be able to do is say my_banking + my_investments and have Python calculate the sum of the account attributes. We want the plus operator to be overloaded for both BankAccount and InvestmentAccount. Overload the operator in the parent class so that both subclasses inherit this behavior. Then print the result."
   ],
   "metadata": {
    "collapsed": false,
    "pycharm": {
     "name": "#%% md\n"
    }
   }
  },
  {
   "cell_type": "code",
   "execution_count": 9,
   "outputs": [],
   "source": [
    "class FinancialAccount:\n",
    "    def __init__(self, account):\n",
    "        self.account = account\n",
    "\n",
    "    def __add__(self, others):\n",
    "        return self.account + others.account"
   ],
   "metadata": {
    "collapsed": false,
    "pycharm": {
     "name": "#%%\n"
    }
   }
  },
  {
   "cell_type": "code",
   "execution_count": 10,
   "outputs": [],
   "source": [
    "class BankAccount(FinancialAccount):\n",
    "    pass\n",
    "class InvestmentAccount(FinancialAccount):\n",
    "    pass\n",
    "my_banking = BankAccount(500)\n",
    "my_investments = InvestmentAccount(750)"
   ],
   "metadata": {
    "collapsed": false,
    "pycharm": {
     "name": "#%%\n"
    }
   }
  },
  {
   "cell_type": "code",
   "execution_count": 11,
   "outputs": [
    {
     "data": {
      "text/plain": "500"
     },
     "execution_count": 11,
     "metadata": {},
     "output_type": "execute_result"
    }
   ],
   "source": [
    "my_banking.account"
   ],
   "metadata": {
    "collapsed": false,
    "pycharm": {
     "name": "#%%\n"
    }
   }
  },
  {
   "cell_type": "code",
   "execution_count": 15,
   "outputs": [
    {
     "name": "stdout",
     "output_type": "stream",
     "text": [
      "True\n"
     ]
    },
    {
     "data": {
      "text/plain": "1250"
     },
     "execution_count": 15,
     "metadata": {},
     "output_type": "execute_result"
    }
   ],
   "source": [
    "print(my_banking + my_investments == my_banking.__add__(my_investments))\n",
    "my_banking.__add__(my_investments)"
   ],
   "metadata": {
    "collapsed": false,
    "pycharm": {
     "name": "#%%\n"
    }
   }
  },
  {
   "cell_type": "code",
   "execution_count": 22,
   "outputs": [],
   "source": [
    "class NewBank(FinancialAccount):\n",
    "    def __mul__(self, others):\n",
    "        return self.account * others.account"
   ],
   "metadata": {
    "collapsed": false,
    "pycharm": {
     "name": "#%%\n"
    }
   }
  },
  {
   "cell_type": "code",
   "execution_count": 23,
   "outputs": [
    {
     "data": {
      "text/plain": "1000"
     },
     "execution_count": 23,
     "metadata": {},
     "output_type": "execute_result"
    }
   ],
   "source": [
    "new_bank = NewBank(2)\n",
    "new_bank * my_banking"
   ],
   "metadata": {
    "collapsed": false,
    "pycharm": {
     "name": "#%%\n"
    }
   }
  },
  {
   "cell_type": "code",
   "execution_count": 37,
   "outputs": [
    {
     "data": {
      "text/plain": "502"
     },
     "execution_count": 37,
     "metadata": {},
     "output_type": "execute_result"
    }
   ],
   "source": [
    "my_banking + new_bank"
   ],
   "metadata": {
    "collapsed": false,
    "pycharm": {
     "name": "#%%\n"
    }
   }
  },
  {
   "cell_type": "code",
   "execution_count": 38,
   "outputs": [
    {
     "data": {
      "text/plain": "502"
     },
     "execution_count": 38,
     "metadata": {},
     "output_type": "execute_result"
    }
   ],
   "source": [
    "new_bank +my_banking"
   ],
   "metadata": {
    "collapsed": false,
    "pycharm": {
     "name": "#%%\n"
    }
   }
  },
  {
   "cell_type": "code",
   "execution_count": 20,
   "outputs": [
    {
     "data": {
      "text/plain": "2"
     },
     "execution_count": 20,
     "metadata": {},
     "output_type": "execute_result"
    }
   ],
   "source": [
    "new_bank.account"
   ],
   "metadata": {
    "collapsed": false,
    "pycharm": {
     "name": "#%%\n"
    }
   }
  },
  {
   "cell_type": "code",
   "execution_count": 26,
   "outputs": [],
   "source": [
    "class NewBankGroup:\n",
    "    def __init__(self, account):\n",
    "        self.account = account\n",
    "    def __mul__(self, others):\n",
    "        return self.account * others.account"
   ],
   "metadata": {
    "collapsed": false,
    "pycharm": {
     "name": "#%%\n"
    }
   }
  },
  {
   "cell_type": "code",
   "execution_count": 27,
   "outputs": [
    {
     "data": {
      "text/plain": "1000"
     },
     "execution_count": 27,
     "metadata": {},
     "output_type": "execute_result"
    }
   ],
   "source": [
    "new_comer = NewBankGroup(2)\n",
    "new_comer * my_banking"
   ],
   "metadata": {
    "collapsed": false,
    "pycharm": {
     "name": "#%%\n"
    }
   }
  },
  {
   "cell_type": "code",
   "execution_count": 34,
   "outputs": [
    {
     "name": "stdout",
     "output_type": "stream",
     "text": [
      "unsupported operand type(s) for *: 'BankAccount' and 'NewBankGroup'\n"
     ]
    }
   ],
   "source": [
    "try:\n",
    "    my_banking * new_comer\n",
    "except TypeError as te:\n",
    "    print(te)"
   ],
   "metadata": {
    "collapsed": false,
    "pycharm": {
     "name": "#%%\n"
    }
   }
  },
  {
   "cell_type": "code",
   "execution_count": 29,
   "outputs": [],
   "source": [
    "class FinancialAccount:\n",
    "        def __init__(self, amount):\n",
    "            self.account = amount\n",
    "\n",
    "class BankAccount(FinancialAccount):\n",
    "    def __add__(self, other):\n",
    "        return self.account + other.account"
   ],
   "metadata": {
    "collapsed": false,
    "pycharm": {
     "name": "#%%\n"
    }
   }
  },
  {
   "cell_type": "code",
   "execution_count": 31,
   "outputs": [
    {
     "data": {
      "text/plain": "5"
     },
     "execution_count": 31,
     "metadata": {},
     "output_type": "execute_result"
    }
   ],
   "source": [
    "f = FinancialAccount(2)\n",
    "b = BankAccount(3)\n",
    "b + f"
   ],
   "metadata": {
    "collapsed": false,
    "pycharm": {
     "name": "#%%\n"
    }
   }
  },
  {
   "cell_type": "code",
   "execution_count": 35,
   "outputs": [
    {
     "name": "stdout",
     "output_type": "stream",
     "text": [
      "unsupported operand type(s) for +: 'FinancialAccount' and 'BankAccount'\n"
     ]
    }
   ],
   "source": [
    "try:\n",
    "    f + b\n",
    "except TypeError as te:\n",
    "    print(te)"
   ],
   "metadata": {
    "collapsed": false,
    "pycharm": {
     "name": "#%%\n"
    }
   }
  },
  {
   "cell_type": "markdown",
   "source": [
    "Overloaded operators in a parent class work with the child classes."
   ],
   "metadata": {
    "collapsed": false,
    "pycharm": {
     "name": "#%% md\n"
    }
   }
  },
  {
   "cell_type": "markdown",
   "source": [
    "## Magic Methods\n",
    "You may have noticed that all of the methods for operator overloading had leading and trailing double underscores. These methods are called\n",
    "“dunder” methods for short (__add__ would be pronounced “dunder add”). These methods are also called magic methods. Here is a list of some\n",
    "common operators and their associated magic method name. You can learn about all of the magic methods here"
   ],
   "metadata": {
    "collapsed": false,
    "pycharm": {
     "name": "#%% md\n"
    }
   }
  },
  {
   "cell_type": "code",
   "execution_count": 39,
   "outputs": [
    {
     "data": {
      "text/plain": "False"
     },
     "execution_count": 39,
     "metadata": {},
     "output_type": "execute_result"
    }
   ],
   "source": [
    "a = 2\n",
    "b = 3\n",
    "a.__eq__(b)"
   ],
   "metadata": {
    "collapsed": false,
    "pycharm": {
     "name": "#%%\n"
    }
   }
  },
  {
   "cell_type": "code",
   "execution_count": 41,
   "outputs": [
    {
     "name": "stdout",
     "output_type": "stream",
     "text": [
      "False\n"
     ]
    }
   ],
   "source": [
    "class FinancialAccount:\n",
    "    def __init__(self, amount):\n",
    "        self.account = amount\n",
    "    def __eq__(self, other):\n",
    "        return self.account == other.account\n",
    "\n",
    "class BankAccount(FinancialAccount):\n",
    "    pass\n",
    "class InvestmentAccount(FinancialAccount):\n",
    "    pass\n",
    "my_banking = BankAccount(500)\n",
    "my_investments = InvestmentAccount(750)\n",
    "print(my_investments == my_banking)"
   ],
   "metadata": {
    "collapsed": false,
    "pycharm": {
     "name": "#%%\n"
    }
   }
  },
  {
   "cell_type": "code",
   "execution_count": 51,
   "outputs": [],
   "source": [
    "class FinancialAccount:\n",
    "    def __init__(self, amount):\n",
    "        self.account = amount\n",
    "\n",
    "    def __eq__(self, other):\n",
    "        return self.account == other.account\n",
    "\n",
    "    def __truediv__(self, others):\n",
    "        return  self.account / others.account\n",
    "\n",
    "    def __floordiv__(self, others):\n",
    "        return  self.account // others.account"
   ],
   "metadata": {
    "collapsed": false,
    "pycharm": {
     "name": "#%%\n"
    }
   }
  },
  {
   "cell_type": "code",
   "execution_count": 52,
   "outputs": [
    {
     "data": {
      "text/plain": "1.5"
     },
     "execution_count": 52,
     "metadata": {},
     "output_type": "execute_result"
    }
   ],
   "source": [
    "my_banking = BankAccount(500)\n",
    "my_investments = FinancialAccount(750)\n",
    "my_investments / my_banking"
   ],
   "metadata": {
    "collapsed": false,
    "pycharm": {
     "name": "#%%\n"
    }
   }
  },
  {
   "cell_type": "code",
   "execution_count": 53,
   "outputs": [
    {
     "data": {
      "text/plain": "1"
     },
     "execution_count": 53,
     "metadata": {},
     "output_type": "execute_result"
    }
   ],
   "source": [
    "my_investments // my_banking"
   ],
   "metadata": {
    "collapsed": false,
    "pycharm": {
     "name": "#%%\n"
    }
   }
  },
  {
   "cell_type": "markdown",
   "source": [
    "## Duck typing\n",
    "Duck typing is used to determine the suitability of an object not based on what it is, but based on what it does\n",
    "\n",
    "Look at the following code. There aret wo totally unrelated classes, a baseball player and a song. An instance  from each class is passed to the function print_hit which prints the result of the hit method."
   ],
   "metadata": {
    "collapsed": false,
    "pycharm": {
     "name": "#%% md\n"
    }
   }
  },
  {
   "cell_type": "code",
   "execution_count": 55,
   "outputs": [],
   "source": [
    "import random\n",
    "class BaseballPlayer:\n",
    "    def hit(self):\n",
    "        total_bases = random.randint(1, 4)\n",
    "        if total_bases == 1:\n",
    "            return \"single\"\n",
    "        elif total_bases == 2:\n",
    "            return \"double\"\n",
    "        elif total_bases == 3:\n",
    "            return \"triple\"\n",
    "        else:\n",
    "            return \"home run\"\n",
    "\n",
    "class Song:\n",
    "    \"\"\"A song is a hit if it appeared in a top 40 chart\"\"\"\n",
    "    def __init__(self, title, ranking):\n",
    "        self.title = title\n",
    "        self.ranking = ranking\n",
    "    def hit(self):\n",
    "        if self.ranking <= 40:\n",
    "            return f\"{self.title} is a hit song\"\n",
    "        else:\n",
    "            return f\"{self.title} is not a hit song\""
   ],
   "metadata": {
    "collapsed": false,
    "pycharm": {
     "name": "#%%\n"
    }
   }
  },
  {
   "cell_type": "code",
   "execution_count": 56,
   "outputs": [],
   "source": [
    "def print_hit(obj):\n",
    "    print(obj.hit())"
   ],
   "metadata": {
    "collapsed": false,
    "pycharm": {
     "name": "#%%\n"
    }
   }
  },
  {
   "cell_type": "code",
   "execution_count": 57,
   "outputs": [],
   "source": [
    "my_player = BaseballPlayer()\n",
    "my_song = Song(\"Hey Jude\", 12)"
   ],
   "metadata": {
    "collapsed": false,
    "pycharm": {
     "name": "#%%\n"
    }
   }
  },
  {
   "cell_type": "code",
   "execution_count": 58,
   "outputs": [
    {
     "name": "stdout",
     "output_type": "stream",
     "text": [
      "triple\n",
      "Hey Jude is a hit song\n"
     ]
    }
   ],
   "source": [
    "print_hit(my_player)\n",
    "print_hit(my_song)"
   ],
   "metadata": {
    "collapsed": false,
    "pycharm": {
     "name": "#%%\n"
    }
   }
  },
  {
   "cell_type": "markdown",
   "source": [
    "The print_hit function does not care if the object is has the type BaseballPlayer or Song. It only cares if the object has a hit method. Duck typing is an example of polymorphism because, in this case, a single function works with objects of different types."
   ],
   "metadata": {
    "collapsed": false,
    "pycharm": {
     "name": "#%% md\n"
    }
   }
  },
  {
   "cell_type": "markdown",
   "source": [
    "Add the class Boxer to the class above. This class should have a hit\n",
    "method that returns the string \"jab\". Pass an object of type Boxer to\n",
    "the print_hit function."
   ],
   "metadata": {
    "collapsed": false,
    "pycharm": {
     "name": "#%% md\n"
    }
   }
  },
  {
   "cell_type": "code",
   "execution_count": 60,
   "outputs": [
    {
     "name": "stdout",
     "output_type": "stream",
     "text": [
      "jab\n"
     ]
    }
   ],
   "source": [
    "class Boxer:\n",
    "    def hit(self):\n",
    "        return \"jab\"\n",
    "my_boxer = Boxer()\n",
    "print_hit(my_boxer)"
   ],
   "metadata": {
    "collapsed": false,
    "pycharm": {
     "name": "#%%\n"
    }
   }
  },
  {
   "cell_type": "markdown",
   "source": [
    "### Handling Errors"
   ],
   "metadata": {
    "collapsed": false,
    "pycharm": {
     "name": "#%% md\n"
    }
   }
  },
  {
   "cell_type": "markdown",
   "source": [
    "Since print_hit only cares about the hit method, it is possible to send an object to the function that does not have a hit method. In this case, the program would crash"
   ],
   "metadata": {
    "collapsed": false,
    "pycharm": {
     "name": "#%% md\n"
    }
   }
  },
  {
   "cell_type": "code",
   "execution_count": 62,
   "outputs": [],
   "source": [
    "import random\n",
    "class BaseballPlayer:\n",
    "    def hit(self):\n",
    "        total_bases = random.randint(1, 4)\n",
    "        if total_bases == 1:\n",
    "            return \"single\"\n",
    "        elif total_bases == 2:\n",
    "            return \"double\"\n",
    "        elif total_bases == 3:\n",
    "            return \"triple\"\n",
    "        else:\n",
    "            return \"home run\"\n",
    "\n",
    "class Song:\n",
    "    \"\"\"A song is a hit if it appeared in a top 40 chart\"\"\"\n",
    "    def __init__(self, title, ranking):\n",
    "        self.title = title\n",
    "        self.ranking = ranking\n",
    "    def hit(self):\n",
    "        if self.ranking <= 40:\n",
    "            return f\"{self.title} is a hit song\"\n",
    "        else:\n",
    "            return f\"{self.title} is not a hit song\"\n",
    "\n",
    "class Dancer:\n",
    "    def pirouette(self):\n",
    "        return \"Spin, spin, spin\""
   ],
   "metadata": {
    "collapsed": false,
    "pycharm": {
     "name": "#%%\n"
    }
   }
  },
  {
   "cell_type": "code",
   "execution_count": 63,
   "outputs": [
    {
     "name": "stdout",
     "output_type": "stream",
     "text": [
      "home run\n"
     ]
    },
    {
     "ename": "AttributeError",
     "evalue": "'Dancer' object has no attribute 'hit'",
     "output_type": "error",
     "traceback": [
      "\u001B[1;31m---------------------------------------------------------------------------\u001B[0m",
      "\u001B[1;31mAttributeError\u001B[0m                            Traceback (most recent call last)",
      "\u001B[1;32m~\\AppData\\Local\\Temp/ipykernel_16528/3621539273.py\u001B[0m in \u001B[0;36m<module>\u001B[1;34m\u001B[0m\n\u001B[0;32m      2\u001B[0m \u001B[0mmy_dancer\u001B[0m \u001B[1;33m=\u001B[0m \u001B[0mDancer\u001B[0m\u001B[1;33m(\u001B[0m\u001B[1;33m)\u001B[0m\u001B[1;33m\u001B[0m\u001B[1;33m\u001B[0m\u001B[0m\n\u001B[0;32m      3\u001B[0m \u001B[0mprint_hit\u001B[0m\u001B[1;33m(\u001B[0m\u001B[0mmy_player\u001B[0m\u001B[1;33m)\u001B[0m\u001B[1;33m\u001B[0m\u001B[1;33m\u001B[0m\u001B[0m\n\u001B[1;32m----> 4\u001B[1;33m \u001B[0mprint_hit\u001B[0m\u001B[1;33m(\u001B[0m\u001B[0mmy_dancer\u001B[0m\u001B[1;33m)\u001B[0m\u001B[1;33m\u001B[0m\u001B[1;33m\u001B[0m\u001B[0m\n\u001B[0m",
      "\u001B[1;32m~\\AppData\\Local\\Temp/ipykernel_16528/3904323766.py\u001B[0m in \u001B[0;36mprint_hit\u001B[1;34m(obj)\u001B[0m\n\u001B[0;32m      1\u001B[0m \u001B[1;32mdef\u001B[0m \u001B[0mprint_hit\u001B[0m\u001B[1;33m(\u001B[0m\u001B[0mobj\u001B[0m\u001B[1;33m)\u001B[0m\u001B[1;33m:\u001B[0m\u001B[1;33m\u001B[0m\u001B[1;33m\u001B[0m\u001B[0m\n\u001B[1;32m----> 2\u001B[1;33m     \u001B[0mprint\u001B[0m\u001B[1;33m(\u001B[0m\u001B[0mobj\u001B[0m\u001B[1;33m.\u001B[0m\u001B[0mhit\u001B[0m\u001B[1;33m(\u001B[0m\u001B[1;33m)\u001B[0m\u001B[1;33m)\u001B[0m\u001B[1;33m\u001B[0m\u001B[1;33m\u001B[0m\u001B[0m\n\u001B[0m",
      "\u001B[1;31mAttributeError\u001B[0m: 'Dancer' object has no attribute 'hit'"
     ]
    }
   ],
   "source": [
    "my_player = BaseballPlayer()\n",
    "my_dancer = Dancer()\n",
    "print_hit(my_player)\n",
    "print_hit(my_dancer)"
   ],
   "metadata": {
    "collapsed": false,
    "pycharm": {
     "name": "#%%\n"
    }
   }
  },
  {
   "cell_type": "markdown",
   "source": [
    "You should see an AttributeError: 'Dancer' object has no attribute 'hit'.\n",
    "A common response is to check and make sure the object has the proper\n",
    "type before executing the hit method. That would violate the spirit of duck\n",
    "typing. Instead, call the hit method, and if there is a problem then respond\n",
    "to the error. Modify the print_hit function to use a try except block as\n",
    "shown below"
   ],
   "metadata": {
    "collapsed": false,
    "pycharm": {
     "name": "#%% md\n"
    }
   }
  },
  {
   "cell_type": "code",
   "execution_count": 64,
   "outputs": [],
   "source": [
    "def print_hit(obj):\n",
    "    try:\n",
    "        print(obj.hit())\n",
    "    except AttributeError as e:\n",
    "        print(e)"
   ],
   "metadata": {
    "collapsed": false,
    "pycharm": {
     "name": "#%%\n"
    }
   }
  },
  {
   "cell_type": "markdown",
   "source": [
    "Using try except allows you to determine the suitability of an object based on its functionality (hit method), but also allows you to handle an error without crashing the program."
   ],
   "metadata": {
    "collapsed": false,
    "pycharm": {
     "name": "#%% md\n"
    }
   }
  },
  {
   "cell_type": "code",
   "execution_count": 65,
   "outputs": [],
   "source": [
    "class Bird:\n",
    "    def fly(self):\n",
    "        return \"I am flapping my wings\"\n",
    "class Car:\n",
    "    def drive(self):\n",
    "        return \"My wheels are turning\""
   ],
   "metadata": {
    "collapsed": false,
    "pycharm": {
     "name": "#%%\n"
    }
   }
  },
  {
   "cell_type": "code",
   "execution_count": 66,
   "outputs": [],
   "source": [
    "def print_fly(obj):\n",
    "    try:\n",
    "        print(obj.fly())\n",
    "    except AttributeError as e:\n",
    "        print(e)"
   ],
   "metadata": {
    "collapsed": false,
    "pycharm": {
     "name": "#%%\n"
    }
   }
  },
  {
   "cell_type": "code",
   "execution_count": 68,
   "outputs": [
    {
     "name": "stdout",
     "output_type": "stream",
     "text": [
      "I am flapping my wings\n",
      "'Car' object has no attribute 'fly'\n"
     ]
    }
   ],
   "source": [
    "my_bird = Bird()\n",
    "my_car = Car()\n",
    "print_fly(my_bird)\n",
    "print_fly(my_car)"
   ],
   "metadata": {
    "collapsed": false,
    "pycharm": {
     "name": "#%%\n"
    }
   }
  },
  {
   "cell_type": "code",
   "execution_count": null,
   "outputs": [],
   "source": [],
   "metadata": {
    "collapsed": false,
    "pycharm": {
     "name": "#%%\n"
    }
   }
  }
 ],
 "metadata": {
  "kernelspec": {
   "display_name": "Python 3",
   "language": "python",
   "name": "python3"
  },
  "language_info": {
   "codemirror_mode": {
    "name": "ipython",
    "version": 2
   },
   "file_extension": ".py",
   "mimetype": "text/x-python",
   "name": "python",
   "nbconvert_exporter": "python",
   "pygments_lexer": "ipython2",
   "version": "2.7.6"
  }
 },
 "nbformat": 4,
 "nbformat_minor": 0
}