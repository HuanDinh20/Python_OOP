{
 "cells": [
  {
   "cell_type": "markdown",
   "source": [
    "# Objectives\n",
    "1. Define the terms extending and overriding\n",
    "2. Extend the parent class with new method\n",
    "3. Override methods from the parent class with new functionality"
   ],
   "metadata": {
    "collapsed": false,
    "pycharm": {
     "name": "#%% md\n"
    }
   }
  },
  {
   "cell_type": "markdown",
   "source": [
    "## Extending a Class\n",
    "##### Extending the __init__ Method\n",
    "The idea of **inheritance is to borrow** from a parent class and then add on functionality. Up until now, we have talked about borrowing from a\n",
    "parent class.\n",
    "\n",
    "The process of **adding functionality** to a child class is known as either **extending or overriding**.\n",
    "**Extending a class means that new attributes and methods are given to the child class**\n",
    "\n",
    "Extending / Overriding == Add functionality to child classes"
   ],
   "metadata": {
    "collapsed": false,
    "pycharm": {
     "name": "#%% md\n"
    }
   }
  },
  {
   "cell_type": "markdown",
   "source": [
    "The code below will first call upon the __init__ method (using super()) of the parent class to create the attributes name, age, and occupation. The __init__ method is extended when the attribute secret_identity is added to the Superhero class."
   ],
   "metadata": {
    "collapsed": false,
    "pycharm": {
     "name": "#%% md\n"
    }
   }
  },
  {
   "cell_type": "code",
   "execution_count": 3,
   "outputs": [],
   "source": [
    "class Person:\n",
    "    def __init__(self, name, age, occupation):\n",
    "        self.name = name\n",
    "        self.age = age\n",
    "        self.occupation = occupation\n",
    "\n",
    "    def say_hi(self):\n",
    "        print(\"Hi my name is \", self.name)\n",
    "\n",
    "    def say_age(self):\n",
    "        print(f\"I'm {self.age} year olds\")"
   ],
   "metadata": {
    "collapsed": false,
    "pycharm": {
     "name": "#%%\n"
    }
   }
  },
  {
   "cell_type": "code",
   "execution_count": 4,
   "outputs": [],
   "source": [
    "class Superhero(Person):\n",
    "    def __init__(self, name, age, occupation, secret_identity):\n",
    "        super().__init__(name, age, occupation)\n",
    "        self.secret_identity = secret_identity\n"
   ],
   "metadata": {
    "collapsed": false,
    "pycharm": {
     "name": "#%%\n"
    }
   }
  },
  {
   "cell_type": "code",
   "execution_count": 6,
   "outputs": [
    {
     "name": "stdout",
     "output_type": "stream",
     "text": [
      "Hi my name is  Duck\n"
     ]
    }
   ],
   "source": [
    "she_ro = Superhero(\"Duck\", 25, \"Players\", \"007\")\n",
    "she_ro.say_hi()"
   ],
   "metadata": {
    "collapsed": false,
    "pycharm": {
     "name": "#%%\n"
    }
   }
  },
  {
   "cell_type": "code",
   "execution_count": 7,
   "outputs": [
    {
     "data": {
      "text/plain": "'007'"
     },
     "execution_count": 7,
     "metadata": {},
     "output_type": "execute_result"
    }
   ],
   "source": [
    "she_ro.secret_identity"
   ],
   "metadata": {
    "collapsed": false,
    "pycharm": {
     "name": "#%%\n"
    }
   }
  },
  {
   "cell_type": "markdown",
   "source": [
    "##### Inheritance is a One-Way Stree\n",
    "Inheritance shares attributes and methods from the parent class to the child class. When a child class is extended, it cannot share the new\n",
    "additions with their parent class. In the code above, Superhero has access to name, but Person does not have access to secret_identity.\n",
    "\n",
    "**Child classes cannot share new additions with their parent**"
   ],
   "metadata": {
    "collapsed": false,
    "pycharm": {
     "name": "#%% md\n"
    }
   }
  },
  {
   "cell_type": "code",
   "execution_count": 8,
   "outputs": [
    {
     "name": "stdout",
     "output_type": "stream",
     "text": [
      "Doc Octopus\n"
     ]
    }
   ],
   "source": [
    "class Superhero(Person):\n",
    "    def __init__(self, name, age, occupation, secret_identity, nemesis):\n",
    "        super().__init__(name, age, occupation)\n",
    "        self.secret_identity = secret_identity\n",
    "        self.nemesis = nemesis\n",
    "hero = Superhero(\"Spider-Man\", 17, \"student\", \"Peter Parker\", \"Doc Octopus\")\n",
    "print(hero.nemesis)"
   ],
   "metadata": {
    "collapsed": false,
    "pycharm": {
     "name": "#%%\n"
    }
   }
  },
  {
   "cell_type": "markdown",
   "source": [
    "### Extending A Class by Adding new Methods\n",
    "Another way to extend a class is to create new methods that are unique to the child class. For example, the say_hello method will give the\n",
    "superhero’s name, but it will not divulge their secret identity. Create the method reveal_secret_identity to print the attribute  secret_identity."
   ],
   "metadata": {
    "collapsed": false,
    "pycharm": {
     "name": "#%% md\n"
    }
   }
  },
  {
   "cell_type": "code",
   "execution_count": 10,
   "outputs": [],
   "source": [
    "class Superhero(Person):\n",
    "    def __init__(self, name, age, occupation, secret_identity, nemesis):\n",
    "        super().__init__(name, age, occupation)\n",
    "        self.secret_identity = secret_identity\n",
    "        self.nemesis = nemesis\n",
    "\n",
    "    def say_secret_identity(self):\n",
    "        print(f\"My real name is {self.secret_identity}\")\n",
    "\n",
    "    def say_nemesis(self):\n",
    "        print(f\"My nemesis is {self.nemesis}\")"
   ],
   "metadata": {
    "collapsed": false,
    "pycharm": {
     "name": "#%%\n"
    }
   }
  },
  {
   "cell_type": "code",
   "execution_count": 11,
   "outputs": [
    {
     "name": "stdout",
     "output_type": "stream",
     "text": [
      "My real name is Peter Parker\n"
     ]
    }
   ],
   "source": [
    "hero = Superhero(\"Spider-Man\", 17, \"student\", \"Peter Parker\", \"Doc Octopus\")\n",
    "hero.say_secret_identity()"
   ],
   "metadata": {
    "collapsed": false,
    "pycharm": {
     "name": "#%%\n"
    }
   }
  },
  {
   "cell_type": "markdown",
   "source": [
    "## Method Overriding\n",
    "##### Overriding a Method\n",
    "Extending == Add new methods / attributes\n",
    "Overriding == Change content of Inherited methods + Keep name\n",
    "\n",
    "Extending a class means adding new attributes or methods to the child class. Another way to add new functionality to a child class is through\n",
    "method overriding. Overriding a method means to inherit a method from the parent class, keep its name, but change the contents of the method"
   ],
   "metadata": {
    "collapsed": false,
    "pycharm": {
     "name": "#%% md\n"
    }
   }
  },
  {
   "cell_type": "code",
   "execution_count": 21,
   "outputs": [],
   "source": [
    "class Superhero(Person):\n",
    "    def __init__(self, name, age, occupation, secret_identity, nemesis):\n",
    "        super().__init__(name, age, occupation)\n",
    "        self.secret_identity = secret_identity\n",
    "        self.nemesis = nemesis\n",
    "\n",
    "    def say_secret_identity(self):\n",
    "        print(f\"My real name is {self.secret_identity}\")\n",
    "\n",
    "    def say_nemesis(self):\n",
    "        print(f\"My nemesis is {self.nemesis}\")\n",
    "\n",
    "    def say_hi(self):\n",
    "        print(f\"My name is {self.secret_identity}, and you f*ck\")\n",
    "\n",
    "    def say_age(self):\n",
    "        print(f'Young or old I will trimph over evil')"
   ],
   "metadata": {
    "collapsed": false,
    "pycharm": {
     "name": "#%%\n"
    }
   }
  },
  {
   "cell_type": "code",
   "execution_count": 22,
   "outputs": [
    {
     "name": "stdout",
     "output_type": "stream",
     "text": [
      "My name is Ororo Munroe, and you f*ck\n"
     ]
    }
   ],
   "source": [
    "hero = Superhero(\"Storm\", \"30\", \"Queen of Wakanda\", \"Ororo Munroe\", \"Shadow King\")\n",
    "hero.say_hi()"
   ],
   "metadata": {
    "collapsed": false,
    "pycharm": {
     "name": "#%%\n"
    }
   }
  },
  {
   "cell_type": "markdown",
   "source": [
    "#### Differentiating Overriding and Extending\n"
   ],
   "metadata": {
    "collapsed": false,
    "pycharm": {
     "name": "#%% md\n"
    }
   }
  },
  {
   "cell_type": "code",
   "execution_count": 23,
   "outputs": [
    {
     "name": "stdout",
     "output_type": "stream",
     "text": [
      "Help on class Superhero in module __main__:\n",
      "\n",
      "class Superhero(Person)\n",
      " |  Superhero(name, age, occupation, secret_identity, nemesis)\n",
      " |  \n",
      " |  Method resolution order:\n",
      " |      Superhero\n",
      " |      Person\n",
      " |      builtins.object\n",
      " |  \n",
      " |  Methods defined here:\n",
      " |  \n",
      " |  __init__(self, name, age, occupation, secret_identity, nemesis)\n",
      " |      Initialize self.  See help(type(self)) for accurate signature.\n",
      " |  \n",
      " |  say_age(self)\n",
      " |  \n",
      " |  say_hi(self)\n",
      " |  \n",
      " |  say_nemesis(self)\n",
      " |  \n",
      " |  say_secret_identity(self)\n",
      " |  \n",
      " |  ----------------------------------------------------------------------\n",
      " |  Data descriptors inherited from Person:\n",
      " |  \n",
      " |  __dict__\n",
      " |      dictionary for instance variables (if defined)\n",
      " |  \n",
      " |  __weakref__\n",
      " |      list of weak references to the object (if defined)\n",
      "\n"
     ]
    }
   ],
   "source": [
    "help(Superhero)"
   ],
   "metadata": {
    "collapsed": false,
    "pycharm": {
     "name": "#%%\n"
    }
   }
  },
  {
   "cell_type": "markdown",
   "source": [
    "##### Note:\n",
    "Notice that there is no section that says Methods inherited from Person\n",
    "after using method help()"
   ],
   "metadata": {
    "collapsed": false,
    "pycharm": {
     "name": "#%% md\n"
    }
   }
  },
  {
   "cell_type": "markdown",
   "source": [
    "Does that mean that the Superhero can no longer use the original say_age\n",
    "and say_hello methods? No, the child class can still call the methods from\n",
    "the parent class. However, calling say_hello or say_age will not print the\n",
    "same string as the parent class. Instead, using the super() keyword gives a\n",
    "child class access to the original methods. Add the following method to the\n",
    "Superhero class and then call it"
   ],
   "metadata": {
    "collapsed": false,
    "pycharm": {
     "name": "#%% md\n"
    }
   }
  },
  {
   "cell_type": "code",
   "execution_count": 27,
   "outputs": [],
   "source": [
    "class Superhero(Person):\n",
    "    def __init__(self, name, age, occupation, secret_identity, nemesis):\n",
    "        super().__init__(name, age, occupation)\n",
    "        self.secret_identity = secret_identity\n",
    "        self.nemesis = nemesis\n",
    "\n",
    "    def say_secret_identity(self):\n",
    "        print(f\"My real name is {self.secret_identity}\")\n",
    "\n",
    "    def say_nemesis(self):\n",
    "        print(f\"My nemesis is {self.nemesis}\")\n",
    "\n",
    "    def say_hi(self):\n",
    "        print(f\"My name is {self.secret_identity}, and you f*ck\")\n",
    "\n",
    "    def say_age(self):\n",
    "        print(f'Young or old I will trimph over evil')\n",
    "\n",
    "    def old_say_hi(self):\n",
    "        super().say_hi()"
   ],
   "metadata": {
    "collapsed": false,
    "pycharm": {
     "name": "#%%\n"
    }
   }
  },
  {
   "cell_type": "code",
   "execution_count": 28,
   "outputs": [
    {
     "name": "stdout",
     "output_type": "stream",
     "text": [
      "My name is Ororo Munroe, and you f*ck\n",
      "Hi my name is  Storm\n"
     ]
    }
   ],
   "source": [
    "hero = Superhero(\"Storm\", \"30\", \"Queen of Wakanda\", \"Ororo Munroe\", \"Shadow King\")\n",
    "hero.say_hi()\n",
    "hero.old_say_hi()"
   ],
   "metadata": {
    "collapsed": false,
    "pycharm": {
     "name": "#%%\n"
    }
   }
  },
  {
   "cell_type": "code",
   "execution_count": null,
   "outputs": [],
   "source": [],
   "metadata": {
    "collapsed": false,
    "pycharm": {
     "name": "#%%\n"
    }
   }
  }
 ],
 "metadata": {
  "kernelspec": {
   "display_name": "Python 3",
   "language": "python",
   "name": "python3"
  },
  "language_info": {
   "codemirror_mode": {
    "name": "ipython",
    "version": 2
   },
   "file_extension": ".py",
   "mimetype": "text/x-python",
   "name": "python",
   "nbconvert_exporter": "python",
   "pygments_lexer": "ipython2",
   "version": "2.7.6"
  }
 },
 "nbformat": 4,
 "nbformat_minor": 0
}