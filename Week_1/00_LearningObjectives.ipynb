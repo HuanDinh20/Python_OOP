{
 "cells": [
  {
   "cell_type": "markdown",
   "source": [
    "# Inheritance\n",
    "Re-use code from one class in another class by creating an inheritance relationship between the classes.\n",
    "### Learning Objectives\n",
    "1. Explain the relationship between the parent class and child class\n",
    "2. Explain the role of the \"super\" keyword\n",
    "3. Create a child class from a given parent class\n",
    "4. Define the terms extending and overriding\n",
    "5. Extend the parent class with new method\n",
    "6. Override methods from the parent class with new functionality\n",
    "7. Define multiple inheritance\n",
    "8. Override the \"__init__\" method to inherit attributes from both parent classes\n",
    "9. Define the inheritance hierarchy of an object with more than one parent class"
   ],
   "metadata": {
    "collapsed": false,
    "pycharm": {
     "name": "#%% md\n"
    }
   }
  },
  {
   "cell_type": "code",
   "execution_count": null,
   "outputs": [],
   "source": [],
   "metadata": {
    "collapsed": false,
    "pycharm": {
     "name": "#%%\n"
    }
   }
  }
 ],
 "metadata": {
  "kernelspec": {
   "display_name": "Python 3",
   "language": "python",
   "name": "python3"
  },
  "language_info": {
   "codemirror_mode": {
    "name": "ipython",
    "version": 2
   },
   "file_extension": ".py",
   "mimetype": "text/x-python",
   "name": "python",
   "nbconvert_exporter": "python",
   "pygments_lexer": "ipython2",
   "version": "2.7.6"
  }
 },
 "nbformat": 4,
 "nbformat_minor": 0
}