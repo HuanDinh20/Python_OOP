{
 "cells": [
  {
   "cell_type": "markdown",
   "source": [
    "## Objectives\n",
    "1. Define multiple inheritance\n",
    "2. Override the __init__ method to inherit attributes from both parent classes\n",
    "3. Define the inheritance hierarchy of an object with more than one parent classes"
   ],
   "metadata": {
    "collapsed": false,
    "pycharm": {
     "name": "#%% md\n"
    }
   }
  },
  {
   "cell_type": "markdown",
   "source": [
    "## Multiple Inheritance\n",
    "Multiple Inheritance == Inheritance from More than one parent class\n",
    "Multiple inheritance is when there are more than one parent class."
   ],
   "metadata": {
    "collapsed": false,
    "pycharm": {
     "name": "#%% md\n"
    }
   }
  },
  {
   "cell_type": "code",
   "execution_count": 1,
   "outputs": [],
   "source": [
    "class Dinosaur:\n",
    "    def __init__(self, size, weight):\n",
    "        self.size = size\n",
    "        self.weight = weight\n",
    "\n",
    "class Carnivore:\n",
    "    def __init__(self, diet):\n",
    "        self.diet = diet\n",
    "\n",
    "class TRex(Dinosaur, Carnivore):\n",
    "    pass"
   ],
   "metadata": {
    "collapsed": false,
    "pycharm": {
     "name": "#%%\n"
    }
   }
  },
  {
   "cell_type": "code",
   "execution_count": 2,
   "outputs": [
    {
     "name": "stdout",
     "output_type": "stream",
     "text": [
      "__init__() takes 3 positional arguments but 4 were given\n"
     ]
    }
   ],
   "source": [
    "try:\n",
    "    tiny = TRex(12, 14, \"whatever it wants\")\n",
    "except TypeError as er:\n",
    "    print(er)"
   ],
   "metadata": {
    "collapsed": false,
    "pycharm": {
     "name": "#%%\n"
    }
   }
  },
  {
   "cell_type": "code",
   "execution_count": 3,
   "outputs": [
    {
     "name": "stdout",
     "output_type": "stream",
     "text": [
      "[12, 14]\n"
     ]
    }
   ],
   "source": [
    "tiny2 = TRex([12, 14], \"whatever it wants\")\n",
    "print(tiny2.size)"
   ],
   "metadata": {
    "collapsed": false,
    "pycharm": {
     "name": "#%%\n"
    }
   }
  },
  {
   "cell_type": "code",
   "execution_count": 4,
   "outputs": [
    {
     "data": {
      "text/plain": "'whatever it wants'"
     },
     "execution_count": 4,
     "metadata": {},
     "output_type": "execute_result"
    }
   ],
   "source": [
    "tiny2.weight"
   ],
   "metadata": {
    "collapsed": false,
    "pycharm": {
     "name": "#%%\n"
    }
   }
  },
  {
   "cell_type": "code",
   "execution_count": 5,
   "outputs": [
    {
     "name": "stdout",
     "output_type": "stream",
     "text": [
      "'TRex' object has no attribute 'diet'\n"
     ]
    }
   ],
   "source": [
    "try:\n",
    "    tiny2.diet\n",
    "except AttributeError as aerr:\n",
    "    print(aerr)"
   ],
   "metadata": {
    "collapsed": false,
    "pycharm": {
     "name": "#%%\n"
    }
   }
  },
  {
   "cell_type": "markdown",
   "source": [
    "#### What does pass do?\n",
    "Python expects there to be code in the body of the Tyrannosaurus class. However, we just want this class to inherit from its parents. Using pass  satisfies Python’s need to have a body for the class, but pass doesn’t do anything.\n"
   ],
   "metadata": {
    "collapsed": false,
    "pycharm": {
     "name": "#%% md\n"
    }
   }
  },
  {
   "cell_type": "markdown",
   "source": [
    "Now we can instantiate an object from the Tyrannosaurus class. This t-rex tiny that is 12 meters tall, weighs 14 metric tons, and eats whatever it wants."
   ],
   "metadata": {
    "collapsed": false,
    "pycharm": {
     "name": "#%% md\n"
    }
   }
  },
  {
   "cell_type": "markdown",
   "source": [
    "## What Went Wrong?\n",
    "In multiple inheritance, there are two __init__ methods (one from each parent) that the class Tyrannosaurus inherits. Python is not sure how to take the list of parameters for tiny and divide them between the two __init__ methods. That is why you saw an error message when you ran your code. Rewrite the instantiation of tiny as shown below."
   ],
   "metadata": {
    "collapsed": false,
    "pycharm": {
     "name": "#%% md\n"
    }
   }
  },
  {
   "cell_type": "markdown",
   "source": [
    "The Tyrannosaurus class inherits from two classes. One parent has two parameters for its constructor, while the other has one parameter. Python throws an error when three parameters are passed to Tyrannosaurus, but runs just fine when two parameters are passed. Look at how the Tyrannosaurus class was defined."
   ],
   "metadata": {
    "collapsed": false,
    "pycharm": {
     "name": "#%% md\n"
    }
   }
  },
  {
   "cell_type": "markdown",
   "source": [
    "Dinosaur is listed as the first parent class, so Python uses the constructor from the Dinosaur class. Since Dinosaur takes two parameters, the\n",
    "Tyrannosaurus class works with two parameters."
   ],
   "metadata": {
    "collapsed": false,
    "pycharm": {
     "name": "#%% md\n"
    }
   }
  },
  {
   "cell_type": "markdown",
   "source": [
    "Change the order of the parent classes when defining the Tyrannosaurus class. Instantiate an instance as, tiny = Tyrannosaurus(\"whatever it wants\"). Finally, print out the diet attribute."
   ],
   "metadata": {
    "collapsed": false,
    "pycharm": {
     "name": "#%% md\n"
    }
   }
  },
  {
   "cell_type": "markdown",
   "source": [
    "# Override the init Method\n",
    "In order to have access to the attributes from all the parent classes, you need to override the __init__ method of the child class. Previously, you used the super() keyword to refer to methods in the parent class. This will not work for multiple inheritance\n",
    "\n",
    "Previously, you used the super() keyword to refer to methods in the parent class. This will not work for multiple inheritance."
   ],
   "metadata": {
    "collapsed": false,
    "pycharm": {
     "name": "#%% md\n"
    }
   }
  },
  {
   "cell_type": "code",
   "execution_count": 6,
   "outputs": [],
   "source": [
    "class Tyrannosaurus(Dinosaur, Carnivore):\n",
    "    def __init__(self, size, weight, diet):\n",
    "        super().__init__(size, weight)\n",
    "        super().__init__(diet)"
   ],
   "metadata": {
    "collapsed": false,
    "pycharm": {
     "name": "#%%\n"
    }
   }
  },
  {
   "cell_type": "code",
   "execution_count": 7,
   "outputs": [
    {
     "name": "stdout",
     "output_type": "stream",
     "text": [
      "__init__() missing 1 required positional argument: 'weight'\n"
     ]
    }
   ],
   "source": [
    "try:\n",
    "    t2 = Tyrannosaurus(12,15,\"meat\")\n",
    "except TypeError as t_err:\n",
    "    print(t_err)"
   ],
   "metadata": {
    "collapsed": false,
    "pycharm": {
     "name": "#%%\n"
    }
   }
  },
  {
   "cell_type": "code",
   "execution_count": 8,
   "outputs": [],
   "source": [
    "class Tyrannosaurus(Dinosaur, Carnivore):\n",
    "    def __init__(self, size, weight, diet):\n",
    "        Dinosaur.__init__(self, size, weight)\n",
    "        Carnivore.__init__(self, diet)"
   ],
   "metadata": {
    "collapsed": false,
    "pycharm": {
     "name": "#%%\n"
    }
   }
  },
  {
   "cell_type": "code",
   "execution_count": 10,
   "outputs": [
    {
     "name": "stdout",
     "output_type": "stream",
     "text": [
      "12 14 whatever it wants\n"
     ]
    }
   ],
   "source": [
    "tiny = Tyrannosaurus(12, 14, \"whatever it wants\")\n",
    "print(tiny.size, tiny.weight, tiny.diet)"
   ],
   "metadata": {
    "collapsed": false,
    "pycharm": {
     "name": "#%%\n"
    }
   }
  },
  {
   "cell_type": "markdown",
   "source": [
    "# Multiple Inheritance Hierarchy\n",
    "##### Is an Instance or is a Subclass?\n",
    "Like single inheritance, the isinstance function works with with multiple\n",
    "inheritance."
   ],
   "metadata": {
    "collapsed": false,
    "pycharm": {
     "name": "#%% md\n"
    }
   }
  },
  {
   "cell_type": "code",
   "execution_count": 11,
   "outputs": [],
   "source": [
    "class A:\n",
    "    pass\n",
    "class B:\n",
    "    pass\n",
    "class C:\n",
    "    pass\n",
    "class D(A, B):\n",
    "    pass"
   ],
   "metadata": {
    "collapsed": false,
    "pycharm": {
     "name": "#%%\n"
    }
   }
  },
  {
   "cell_type": "code",
   "execution_count": 14,
   "outputs": [
    {
     "data": {
      "text/plain": "(True, True, False, True, True)"
     },
     "execution_count": 14,
     "metadata": {},
     "output_type": "execute_result"
    }
   ],
   "source": [
    "obj_d = D()\n",
    "isinstance(obj_d, A), isinstance(obj_d, B), isinstance(obj_d, C), issubclass(D, A), issubclass(D, B)"
   ],
   "metadata": {
    "collapsed": false,
    "pycharm": {
     "name": "#%%\n"
    }
   }
  },
  {
   "cell_type": "markdown",
   "source": [
    "#### Overriding the __init__ Method\n",
    "In order to have access to the attributes from all the parent classes, you need to override the __init__ method of the child class. Previously, you used the super() keyword to refer to methods in the parent class. This will not work for multiple inheritance.\n",
    "\n",
    "**Overriding __init__ Method**== Acess all attributes from all the parents"
   ],
   "metadata": {
    "collapsed": false,
    "pycharm": {
     "name": "#%% md\n"
    }
   }
  },
  {
   "cell_type": "code",
   "execution_count": 6,
   "outputs": [],
   "source": [
    "class Tyrannosaurus(Dinosaur, Carnivore):\n",
    "    def __init__(self, size, weight, diet):\n",
    "        Dinosaur.__init__(self, size, weight)\n",
    "        Carnivore.__init__(self, diet)"
   ],
   "metadata": {
    "collapsed": false,
    "pycharm": {
     "name": "#%%\n"
    }
   }
  },
  {
   "cell_type": "code",
   "execution_count": 8,
   "outputs": [],
   "source": [
    "trex1 = Tyrannosaurus(20, 11, \"Everything\")"
   ],
   "metadata": {
    "collapsed": false,
    "pycharm": {
     "name": "#%%\n"
    }
   }
  },
  {
   "cell_type": "code",
   "execution_count": 9,
   "outputs": [
    {
     "data": {
      "text/plain": "20"
     },
     "execution_count": 9,
     "metadata": {},
     "output_type": "execute_result"
    }
   ],
   "source": [
    "trex1.size"
   ],
   "metadata": {
    "collapsed": false,
    "pycharm": {
     "name": "#%%\n"
    }
   }
  },
  {
   "cell_type": "markdown",
   "source": [
    "### Method Resolution Order\n",
    "Class C is the subclass of A and B. Both parent classes have a method called hello which prints either Hello from class A or Hello from class B. Class C overrides hello and calls super().hello(). The keyword super() refers to the hello method of the parent class.\n"
   ],
   "metadata": {
    "collapsed": false,
    "pycharm": {
     "name": "#%% md\n"
    }
   }
  },
  {
   "cell_type": "code",
   "execution_count": 17,
   "outputs": [],
   "source": [
    "class A:\n",
    "    def hello(self):\n",
    "        print(\"Hi! I'm Class A\")\n",
    "\n",
    "class B:\n",
    "    def hello(self):\n",
    "        print(\"Hello, I'm Class B\")\n",
    "\n",
    "class C(A, B):\n",
    "    def hello(self):\n",
    "        super().hello()"
   ],
   "metadata": {
    "collapsed": false,
    "pycharm": {
     "name": "#%%\n"
    }
   }
  },
  {
   "cell_type": "code",
   "execution_count": 18,
   "outputs": [
    {
     "name": "stdout",
     "output_type": "stream",
     "text": [
      "Hi! I'm Class A\n"
     ]
    }
   ],
   "source": [
    "obj=C()\n",
    "obj.hello()"
   ],
   "metadata": {
    "collapsed": false,
    "pycharm": {
     "name": "#%%\n"
    }
   }
  },
  {
   "cell_type": "code",
   "execution_count": 19,
   "outputs": [
    {
     "data": {
      "text/plain": "[__main__.C, __main__.A, __main__.B, object]"
     },
     "execution_count": 19,
     "metadata": {},
     "output_type": "execute_result"
    }
   ],
   "source": [
    "C.mro()"
   ],
   "metadata": {
    "collapsed": false,
    "pycharm": {
     "name": "#%%\n"
    }
   }
  },
  {
   "cell_type": "markdown",
   "source": [
    "If super() cannot be used when overriding the __init__ method, why does Python print Hello from class A and not an error message? Python has\n",
    "something called method resolution order (MRO). MRO is the way Python looks for methods in parent classes. Modify the end of your program so it\n",
    "looks like the code below\n",
    "\n",
    "\n",
    "**MRO = Method Resolution Order** == The order of objects in the list represents the order Python uses to search for a method.\n",
    "\n",
    "So when class C says super().hello(), Python skips class C because of the\n",
    "super() keyword. Then it moves on to class A. The hello method is present\n",
    "in class A, so it prints Class A. Then Python stops searching the rest of the\n",
    "classes, which why Class B is not printed even though the hello method is\n",
    "present in class B."
   ],
   "metadata": {
    "collapsed": false,
    "pycharm": {
     "name": "#%% md\n"
    }
   }
  },
  {
   "cell_type": "code",
   "execution_count": 20,
   "outputs": [],
   "source": [
    "class D(B, A):\n",
    "    def describe(self):\n",
    "        super().hello()"
   ],
   "metadata": {
    "collapsed": false,
    "pycharm": {
     "name": "#%%\n"
    }
   }
  },
  {
   "cell_type": "code",
   "execution_count": 21,
   "outputs": [
    {
     "name": "stdout",
     "output_type": "stream",
     "text": [
      "Hello, I'm Class B\n"
     ]
    }
   ],
   "source": [
    "d = D()\n",
    "d.describe()"
   ],
   "metadata": {
    "collapsed": false,
    "pycharm": {
     "name": "#%%\n"
    }
   }
  },
  {
   "cell_type": "markdown",
   "source": [
    "MRO is defined by the order of parent classes. So class C(A, B): puts class A before class B. Writing class C(B, A): will search class B before\n",
    "class `A.\n",
    "\n",
    "MRO is defined by the order of parent classes. So class C(A, B): puts class A before class B. Writing class C(B, A): will search class B before\n",
    "class `A."
   ],
   "metadata": {
    "collapsed": false,
    "pycharm": {
     "name": "#%% md\n"
    }
   }
  },
  {
   "cell_type": "markdown",
   "source": [
    "### Extending and Overriding Methods\n",
    "##### Extending a Class with Multiple Inheritance\n",
    "Multiple inheritance has no effect on extending a child class.\n",
    "There is no need for special syntax to extend a child class"
   ],
   "metadata": {
    "collapsed": false,
    "pycharm": {
     "name": "#%% md\n"
    }
   }
  },
  {
   "cell_type": "code",
   "execution_count": 23,
   "outputs": [
    {
     "name": "stdout",
     "output_type": "stream",
     "text": [
      "Something\n"
     ]
    }
   ],
   "source": [
    "class E(A, B):\n",
    "    def say_something(self):\n",
    "        print(\"Something\")\n",
    "E().say_something()"
   ],
   "metadata": {
    "collapsed": false,
    "pycharm": {
     "name": "#%%\n"
    }
   }
  },
  {
   "cell_type": "markdown",
   "source": [
    "##### Overriding a Method with Multiple Inheritance"
   ],
   "metadata": {
    "collapsed": false,
    "pycharm": {
     "name": "#%% md\n"
    }
   }
  },
  {
   "cell_type": "markdown",
   "source": [
    "With the exception of the **__init__** method, overriding a method works the\n",
    "same in multiple inheritance as it does in single inheritance"
   ],
   "metadata": {
    "collapsed": false,
    "pycharm": {
     "name": "#%% md\n"
    }
   }
  },
  {
   "cell_type": "code",
   "execution_count": 24,
   "outputs": [],
   "source": [
    "class C1(A, B):\n",
    "    def hello(self):\n",
    "        print(\"Good morning I'm Class C1\")"
   ],
   "metadata": {
    "collapsed": false,
    "pycharm": {
     "name": "#%%\n"
    }
   }
  },
  {
   "cell_type": "code",
   "execution_count": 25,
   "outputs": [
    {
     "name": "stdout",
     "output_type": "stream",
     "text": [
      "Good morning I'm Class C1\n"
     ]
    }
   ],
   "source": [
    "c1 = C1()\n",
    "c1.hello()"
   ],
   "metadata": {
    "collapsed": false,
    "pycharm": {
     "name": "#%%\n"
    }
   }
  },
  {
   "cell_type": "markdown",
   "source": [
    "In single inheritance, you can use the super() keyword to invoke methods from the parent class. Because of method resolution order, you can do the same thing with multiple inheritance. The one exception is when both parent classes have a method with the same name"
   ],
   "metadata": {
    "collapsed": false,
    "pycharm": {
     "name": "#%% md\n"
    }
   }
  },
  {
   "cell_type": "code",
   "execution_count": 27,
   "outputs": [
    {
     "name": "stdout",
     "output_type": "stream",
     "text": [
      "Good morning I'm Class C1\n",
      "Hi! I'm Class A\n"
     ]
    }
   ],
   "source": [
    "class C2(A, B):\n",
    "    def hello(self):\n",
    "        print(\"Good morning I'm Class C1\")\n",
    "        super().hello()\n",
    "c2 = C2()\n",
    "c2.hello()"
   ],
   "metadata": {
    "collapsed": false,
    "pycharm": {
     "name": "#%%\n"
    }
   }
  },
  {
   "cell_type": "code",
   "execution_count": 30,
   "outputs": [
    {
     "name": "stdout",
     "output_type": "stream",
     "text": [
      "Good morning I'm Class C1\n",
      "Hi! I'm Class A\n",
      "Hello, I'm Class B\n"
     ]
    }
   ],
   "source": [
    "class C3(A, B):\n",
    "    def hello(self):\n",
    "        print(\"Good morning I'm Class C1\")\n",
    "        super().hello()\n",
    "        B.hello(self)\n",
    "\n",
    "c3 = C3()\n",
    "c3.hello()"
   ],
   "metadata": {
    "collapsed": false,
    "pycharm": {
     "name": "#%%\n"
    }
   }
  },
  {
   "cell_type": "markdown",
   "source": [
    "Because of MRO, super() refers to the hello method in class A. To refer to the hello method in class B, you will use the same format as when you overrode the __init__ method"
   ],
   "metadata": {
    "collapsed": false,
    "pycharm": {
     "name": "#%% md\n"
    }
   }
  },
  {
   "cell_type": "code",
   "execution_count": null,
   "outputs": [],
   "source": [],
   "metadata": {
    "collapsed": false,
    "pycharm": {
     "name": "#%%\n"
    }
   }
  }
 ],
 "metadata": {
  "kernelspec": {
   "display_name": "Python 3",
   "language": "python",
   "name": "python3"
  },
  "language_info": {
   "codemirror_mode": {
    "name": "ipython",
    "version": 2
   },
   "file_extension": ".py",
   "mimetype": "text/x-python",
   "name": "python",
   "nbconvert_exporter": "python",
   "pygments_lexer": "ipython2",
   "version": "2.7.6"
  }
 },
 "nbformat": 4,
 "nbformat_minor": 0
}