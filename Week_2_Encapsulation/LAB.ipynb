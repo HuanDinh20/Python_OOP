{
 "cells": [
  {
   "cell_type": "markdown",
   "source": [
    "# LAB 1"
   ],
   "metadata": {
    "collapsed": false,
    "pycharm": {
     "name": "#%% md\n"
    }
   }
  },
  {
   "cell_type": "code",
   "execution_count": 2,
   "outputs": [],
   "source": [
    "import csv\n",
    "\n",
    "\n",
    "class CoffeeJournal:\n",
    "  def __init__(self, file):\n",
    "    self._file = file\n",
    "    self._roaster = \"\"\n",
    "    self._country = \"\"\n",
    "    self._region = \"\"\n",
    "    self._stars = \"\"\n",
    "    self._old_coffee = self.load_coffee()\n",
    "    self._new_coffee = []\n",
    "\n",
    "  def load_coffee(self):\n",
    "    coffee = []\n",
    "    with open(self._file) as f:\n",
    "      reader = csv.reader(f, delimiter=',')\n",
    "      for row in reader:\n",
    "        coffee.append(row)\n",
    "    return coffee\n"
   ],
   "metadata": {
    "collapsed": false,
    "pycharm": {
     "name": "#%%\n"
    }
   }
  },
  {
   "cell_type": "markdown",
   "source": [
    "# LAB 2"
   ],
   "metadata": {
    "collapsed": false,
    "pycharm": {
     "name": "#%% md\n"
    }
   }
  },
  {
   "cell_type": "code",
   "execution_count": 4,
   "outputs": [],
   "source": [
    "import csv\n",
    "\n",
    "\n",
    "class CoffeeJournal:\n",
    "  def __init__(self, file):\n",
    "    self._file = file\n",
    "    self._roaster = \"\"\n",
    "    self._country = \"\"\n",
    "    self._region = \"\"\n",
    "    self._stars = \"\"\n",
    "    self._old_coffee = self.load_coffee()\n",
    "    self._new_coffee = []\n",
    "\n",
    "  def load_coffee(self):\n",
    "    coffee = []\n",
    "    with open(self._file) as f:\n",
    "      reader = csv.reader(f, delimiter=',')\n",
    "      for row in reader:\n",
    "        coffee.append(row)\n",
    "    return coffee\n",
    "\n",
    "  @property\n",
    "  def roaster(self):\n",
    "      return self._roaster\n",
    "\n",
    "  @roaster.setter\n",
    "  def roaster(self, new_roaster):\n",
    "      self._roaster = new_roaster\n",
    "\n",
    "  @property\n",
    "  def region(self):\n",
    "    return self._region\n",
    "\n",
    "  @region.setter\n",
    "  def region(self, new_region):\n",
    "    self._region = new_region\n",
    "\n",
    "  @property\n",
    "  def stars(self):\n",
    "    return self._stars\n",
    "\n",
    "  @stars.setter\n",
    "  def stars(self, new_stars):\n",
    "    self._stars = new_stars"
   ],
   "metadata": {
    "collapsed": false,
    "pycharm": {
     "name": "#%%\n"
    }
   }
  },
  {
   "cell_type": "markdown",
   "source": [
    "A getter is a method that accesses (gets) the value of an instance variable.\n",
    "\n",
    "All getters are instance methods, but not all instance methods are getters.\n",
    "So you cannot say getters are another name for instance methods.\n",
    "Setters, not getters, change the value of private attributes.\n",
    "Getters often start with get_, but it is the behavior (returning a private attribute) that determines if a method is a getter or not."
   ],
   "metadata": {
    "collapsed": false,
    "pycharm": {
     "name": "#%% md\n"
    }
   }
  },
  {
   "cell_type": "markdown",
   "source": [
    "Only the getter uses the @property decorator. Instead, the setter uses @ followed by the name of the getter, which is followed by .setter. Since the getter is called private, the setter should use the @private.setter decorator."
   ],
   "metadata": {
    "collapsed": false,
    "pycharm": {
     "name": "#%% md\n"
    }
   }
  },
  {
   "cell_type": "markdown",
   "source": [
    "There are two main ideas behind encapsulation: grouping together related data and restricting this data. Each idea on its own can be an example of encapsulation. However, the best definition is one that includes grouping the data and restricting the data."
   ],
   "metadata": {
    "collapsed": false,
    "pycharm": {
     "name": "#%% md\n"
    }
   }
  },
  {
   "cell_type": "code",
   "execution_count": null,
   "outputs": [],
   "source": [],
   "metadata": {
    "collapsed": false,
    "pycharm": {
     "name": "#%%\n"
    }
   }
  }
 ],
 "metadata": {
  "kernelspec": {
   "display_name": "Python 3",
   "language": "python",
   "name": "python3"
  },
  "language_info": {
   "codemirror_mode": {
    "name": "ipython",
    "version": 2
   },
   "file_extension": ".py",
   "mimetype": "text/x-python",
   "name": "python",
   "nbconvert_exporter": "python",
   "pygments_lexer": "ipython2",
   "version": "2.7.6"
  }
 },
 "nbformat": 4,
 "nbformat_minor": 0
}