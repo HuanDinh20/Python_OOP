{
 "cells": [
  {
   "cell_type": "markdown",
   "source": [
    "## Objective\n",
    "1. Define the terms getter, setter, and data validation\n",
    "2. Differentiate between using theproperty function and the @property decorator for getters and setter\n",
    "3. Demonstrate validating data for type and value errors\n",
    "\n",
    "# Getters and Setters with Methods\n",
    "## Getters and Setters\n",
    "Assume that programmers are respecting the convention that a single underscore makes an attribute private.\n",
    "\n",
    "Getters and setters are then used to access and manipulate these attributes.\n",
    "\n",
    "Getters (sometimes called accessors) are used to return a private attribute, and setters (sometimes called mutators) are used to update the value of a private attribute."
   ],
   "metadata": {
    "collapsed": false,
    "pycharm": {
     "name": "#%% md\n"
    }
   }
  },
  {
   "cell_type": "markdown",
   "source": [
    "getter, setter == access,  manipulate private ( attributes + methods )"
   ],
   "metadata": {
    "collapsed": false,
    "pycharm": {
     "name": "#%% md\n"
    }
   }
  },
  {
   "cell_type": "markdown",
   "source": [
    "Getters = Return Private an attribute\n",
    "Setters = update value of a private attribute"
   ],
   "metadata": {
    "collapsed": false,
    "pycharm": {
     "name": "#%% md\n"
    }
   }
  },
  {
   "cell_type": "markdown",
   "source": [
    "### Why are they called getters and setters?\n",
    "The name getter comes from the fact that many programmers write a method that starts with get_ followed by the attribute name. Similarly, the\n",
    "name setter comes from programmers write a method that starts with set_ followed by the attribute name."
   ],
   "metadata": {
    "collapsed": false,
    "pycharm": {
     "name": "#%% md\n"
    }
   }
  },
  {
   "cell_type": "markdown",
   "source": [
    "The get_model (a getter) acts as an intermediary between the user (outside the class) and the private attribute _model (inside the class). Similarly, the user invokes set_model (a setter) to update the “private” attribute _model"
   ],
   "metadata": {
    "collapsed": false,
    "pycharm": {
     "name": "#%% md\n"
    }
   }
  },
  {
   "cell_type": "markdown",
   "source": [
    "getter, setter == Intermediate(users, private attributes)"
   ],
   "metadata": {
    "collapsed": false,
    "pycharm": {
     "name": "#%% md\n"
    }
   }
  },
  {
   "cell_type": "code",
   "execution_count": 2,
   "outputs": [],
   "source": [
    "class Phone:\n",
    "    def __init__(self, model, storage, megapixels):\n",
    "        self._model = model\n",
    "        self._storage = storage\n",
    "        self._megapixels = megapixels\n",
    "\n",
    "    def get_model(self):\n",
    "        return self._model\n",
    "\n",
    "    def set_model(self, new_model):\n",
    "        self._model = new_model"
   ],
   "metadata": {
    "collapsed": false,
    "pycharm": {
     "name": "#%%\n"
    }
   }
  },
  {
   "cell_type": "code",
   "execution_count": 4,
   "outputs": [
    {
     "name": "stdout",
     "output_type": "stream",
     "text": [
      "iPhone\n",
      "Galaxy S20\n"
     ]
    }
   ],
   "source": [
    "my_phone = Phone(\"iPhone\", 256, 12)\n",
    "print(my_phone.get_model())\n",
    "my_phone.set_model(\"Galaxy S20\")\n",
    "print(my_phone.get_model())"
   ],
   "metadata": {
    "collapsed": false,
    "pycharm": {
     "name": "#%%\n"
    }
   }
  },
  {
   "cell_type": "markdown",
   "source": [
    "Getter methods should return the attribute, while\n",
    "setter methods should update the attribute with a new value."
   ],
   "metadata": {
    "collapsed": false,
    "pycharm": {
     "name": "#%% md\n"
    }
   }
  },
  {
   "cell_type": "code",
   "execution_count": 2,
   "outputs": [],
   "source": [
    "class Phone:\n",
    "    def __init__(self, model, storage, megapixels):\n",
    "        self._model = model\n",
    "        self._storage = storage\n",
    "        self._megapixels = megapixels\n",
    "\n",
    "    def get_model(self):\n",
    "        return  self._model\n",
    "\n",
    "    def get_storage(self):\n",
    "        return self._storage\n",
    "\n",
    "    def get_megapixels(self):\n",
    "        return self._megapixels\n",
    "\n",
    "    def set_model(self, new_model):\n",
    "        self._model = new_model\n",
    "\n",
    "    def set_storage(self, new_storage):\n",
    "        self._storage = new_storage\n",
    "\n",
    "    def set_megapixels(self, new_megapixels):\n",
    "        self._megapixels = new_megapixels"
   ],
   "metadata": {
    "collapsed": false,
    "pycharm": {
     "name": "#%%\n"
    }
   }
  },
  {
   "cell_type": "code",
   "execution_count": 6,
   "outputs": [
    {
     "name": "stdout",
     "output_type": "stream",
     "text": [
      "iPhone\n",
      "Galaxy S20\n"
     ]
    },
    {
     "data": {
      "text/plain": "'WangchoouPhone'"
     },
     "execution_count": 6,
     "metadata": {},
     "output_type": "execute_result"
    }
   ],
   "source": [
    "my_phone = Phone(\"iPhone\", 256, 12)\n",
    "print(my_phone.get_model())\n",
    "my_phone.set_model(\"Galaxy S20\")\n",
    "print(my_phone.get_model())\n",
    "my_newphone = Phone(\"Bphone\", 2566, 122)\n",
    "my_newphone.set_model(\"WangchoouPhone\")\n",
    "my_newphone.get_model()"
   ],
   "metadata": {
    "collapsed": false,
    "pycharm": {
     "name": "#%%\n"
    }
   }
  },
  {
   "cell_type": "markdown",
   "source": [
    "### Using Methods is not the “Python Way”\n",
    "The Python community prides itself on simple, easy to read code. The code example below shows why using methods to implement getters and setters is not common\n",
    "\n",
    "Python == Simple + easy to read"
   ],
   "metadata": {
    "collapsed": false,
    "pycharm": {
     "name": "#%% md\n"
    }
   }
  },
  {
   "cell_type": "markdown",
   "source": [
    "The class below has three private attributes. Getters and setters will be used to set the value of the third attribute to the sum of the first two"
   ],
   "metadata": {
    "collapsed": false,
    "pycharm": {
     "name": "#%% md\n"
    }
   }
  },
  {
   "cell_type": "code",
   "execution_count": 9,
   "outputs": [
    {
     "name": "stdout",
     "output_type": "stream",
     "text": [
      "5\n",
      "7\n",
      "12\n"
     ]
    }
   ],
   "source": [
    "class TestClass:\n",
    "    def __init__(self, num1, num2):\n",
    "        self._num1 = num1\n",
    "        self._num2 = num2\n",
    "        self._sum = 0\n",
    "\n",
    "    def get_num1(self):\n",
    "        return self._num1\n",
    "\n",
    "    def set_num1(self, new_value):\n",
    "        self._num1 = new_value\n",
    "\n",
    "    def get_num2(self):\n",
    "        return self._num2\n",
    "\n",
    "    def set_num2(self, new_value):\n",
    "        self._num2 = new_value\n",
    "\n",
    "    def get_sum(self):\n",
    "        return self._sum\n",
    "\n",
    "    def set_sum(self, new_value):\n",
    "        self._sum = new_value\n",
    "obj = TestClass(5, 7)\n",
    "print(obj.get_num1())\n",
    "print(obj.get_num2())\n",
    "obj.set_sum(obj.get_num1() + obj.get_num2())\n",
    "print(obj.get_sum())"
   ],
   "metadata": {
    "collapsed": false,
    "pycharm": {
     "name": "#%%\n"
    }
   }
  },
  {
   "cell_type": "markdown",
   "source": [
    "In particular, it is the following line that violates the Zen of Python."
   ],
   "metadata": {
    "collapsed": false,
    "pycharm": {
     "name": "#%% md\n"
    }
   }
  },
  {
   "cell_type": "code",
   "execution_count": 10,
   "outputs": [],
   "source": [
    "obj.set_sum(obj.get_num1() + obj.get_num2())"
   ],
   "metadata": {
    "collapsed": false,
    "pycharm": {
     "name": "#%%\n"
    }
   }
  },
  {
   "cell_type": "markdown",
   "source": [
    "You could argue that it is not simple nor beautiful. A more pythonic way of\n",
    "rewriting the offending line would be as this:\n",
    "> obj.sum(obj.num1 + obj.num2)"
   ],
   "metadata": {
    "collapsed": false,
    "pycharm": {
     "name": "#%% md\n"
    }
   }
  },
  {
   "cell_type": "markdown",
   "source": [
    "But this solution ignores private attributes, getters, and setters, right? Python has something called the property object which allows you to write code as if all the attributes are public. Behind the scenes, however, the leading underscore convention, getters, and setters are being used.\n"
   ],
   "metadata": {
    "collapsed": false,
    "pycharm": {
     "name": "#%% md\n"
    }
   }
  },
  {
   "cell_type": "markdown",
   "source": [
    "# Getters with the Property Decorator\n",
    "## The Property Class\n",
    "The property class in Python allows the programmer to use getters and setters in a pythonic way. There are two ways to implement the property\n",
    "class. One way is with the @property decorator, and the second way is with the property function. Both implementations do the same thing, and there is no difference in how the user would interact with the class. There is a slight difference in how the code is written. The @property decorator will be introduced first."
   ],
   "metadata": {
    "collapsed": false,
    "pycharm": {
     "name": "#%% md\n"
    }
   }
  },
  {
   "cell_type": "markdown",
   "source": [
    "## Getters with the Property Decorator"
   ],
   "metadata": {
    "collapsed": false,
    "pycharm": {
     "name": "#%% md\n"
    }
   }
  },
  {
   "cell_type": "code",
   "execution_count": 12,
   "outputs": [
    {
     "name": "stdout",
     "output_type": "stream",
     "text": [
      "Calvin\n"
     ]
    }
   ],
   "source": [
    "class Person:\n",
    "    def __init__(self, name):\n",
    "        self._name = name\n",
    "\n",
    "    def name(self):\n",
    "        return self._name\n",
    "\n",
    "c = Person(\"Calvin\")\n",
    "print(c.name())"
   ],
   "metadata": {
    "collapsed": false,
    "pycharm": {
     "name": "#%%\n"
    }
   }
  },
  {
   "cell_type": "markdown",
   "source": [
    "The end goal is to be able to reference .name as if it were a public attribute.\n",
    "\n",
    "The program works as expected, but we want to get rid of the parentheses after name. Python uses the @property decorator so that name assumes getter behavior. Add the decorator and remove the inner parentheses from the print statement."
   ],
   "metadata": {
    "collapsed": false,
    "pycharm": {
     "name": "#%% md\n"
    }
   }
  },
  {
   "cell_type": "code",
   "execution_count": 13,
   "outputs": [],
   "source": [
    "class Person:\n",
    "    def __init__(self, name):\n",
    "        self._name = name\n",
    "    @property\n",
    "    def name(self):\n",
    "        return self._name"
   ],
   "metadata": {
    "collapsed": false,
    "pycharm": {
     "name": "#%%\n"
    }
   }
  },
  {
   "cell_type": "code",
   "execution_count": 15,
   "outputs": [
    {
     "data": {
      "text/plain": "'Calvin'"
     },
     "execution_count": 15,
     "metadata": {},
     "output_type": "execute_result"
    }
   ],
   "source": [
    "c = Person(\"Calvin\")\n",
    "c.name"
   ],
   "metadata": {
    "collapsed": false,
    "pycharm": {
     "name": "#%%\n"
    }
   }
  },
  {
   "cell_type": "code",
   "execution_count": 17,
   "outputs": [
    {
     "name": "stdout",
     "output_type": "stream",
     "text": [
      "'str' object is not callable\n"
     ]
    }
   ],
   "source": [
    "try:\n",
    "    c.name()\n",
    "except TypeError as terr:\n",
    "    print(terr)"
   ],
   "metadata": {
    "collapsed": false,
    "pycharm": {
     "name": "#%%\n"
    }
   }
  },
  {
   "cell_type": "markdown",
   "source": [
    "#### Why is there an error:\n",
    "The @property decorator means name is treated as an instance variable and not a method.\n",
    "\n",
    "So c.name is the string “Calvin”. Adding the parentheses to c.name means you are trying to “call” the string. You can call a method or a function, but you cannot call a string. That is why you see the error TypeError: ‘str’ object is not callable."
   ],
   "metadata": {
    "collapsed": false,
    "pycharm": {
     "name": "#%% md\n"
    }
   }
  },
  {
   "cell_type": "code",
   "execution_count": 19,
   "outputs": [],
   "source": [
    "class Person:\n",
    "    def __init__(self, name, age):\n",
    "        self._name = name\n",
    "        self._age = age\n",
    "    @property\n",
    "    def name(self):\n",
    "        return self._name\n",
    "    @property\n",
    "    def age(self):\n",
    "        return self._age"
   ],
   "metadata": {
    "collapsed": false,
    "pycharm": {
     "name": "#%%\n"
    }
   }
  },
  {
   "cell_type": "code",
   "execution_count": 20,
   "outputs": [
    {
     "data": {
      "text/plain": "('Calvin', 25)"
     },
     "execution_count": 20,
     "metadata": {},
     "output_type": "execute_result"
    }
   ],
   "source": [
    "c = Person(\"Calvin\", 25)\n",
    "c.name, c.age"
   ],
   "metadata": {
    "collapsed": false,
    "pycharm": {
     "name": "#%%\n"
    }
   }
  },
  {
   "cell_type": "markdown",
   "source": [
    "# Setters with the Property Decorator\n",
    "### Setter\n",
    "\n",
    "Setters can also **take the @property decorator**, but its implementation is different from the getter.\n",
    "The setter decorator starts with a @ followed by the name of the getter method, and it ends with .setter.\n",
    "\n",
    "setter = @getter name + .setter"
   ],
   "metadata": {
    "collapsed": false,
    "pycharm": {
     "name": "#%% md\n"
    }
   }
  },
  {
   "cell_type": "code",
   "execution_count": 37,
   "outputs": [],
   "source": [
    "class Person:\n",
    "    def __init__(self, name):\n",
    "        self._name = name\n",
    "    @property\n",
    "    def name(self):\n",
    "        return self._name\n",
    "    @name.setter\n",
    "    def name(self, new_name):\n",
    "        self._name = new_name"
   ],
   "metadata": {
    "collapsed": false,
    "pycharm": {
     "name": "#%%\n"
    }
   }
  },
  {
   "cell_type": "code",
   "execution_count": 38,
   "outputs": [
    {
     "data": {
      "text/plain": "'Calvin'"
     },
     "execution_count": 38,
     "metadata": {},
     "output_type": "execute_result"
    }
   ],
   "source": [
    "c = Person(\"Calvin\")\n",
    "c.name"
   ],
   "metadata": {
    "collapsed": false,
    "pycharm": {
     "name": "#%%\n"
    }
   }
  },
  {
   "cell_type": "code",
   "execution_count": 39,
   "outputs": [
    {
     "data": {
      "text/plain": "'Kelvin'"
     },
     "execution_count": 39,
     "metadata": {},
     "output_type": "execute_result"
    }
   ],
   "source": [
    "c.name = \"Kelvin\"\n",
    "c.name"
   ],
   "metadata": {
    "collapsed": false,
    "pycharm": {
     "name": "#%%\n"
    }
   }
  },
  {
   "cell_type": "markdown",
   "source": [
    "To the end user, there is no indication that getters and setters are being used. It appears as though the programmer is directly manipulating the instance variable name. In reality, however, getters and setters are acting as an intermediary between the programmer and the private attribute _name."
   ],
   "metadata": {
    "collapsed": false,
    "pycharm": {
     "name": "#%% md\n"
    }
   }
  },
  {
   "cell_type": "markdown",
   "source": [
    "#### Try this variation:"
   ],
   "metadata": {
    "collapsed": false,
    "pycharm": {
     "name": "#%% md\n"
    }
   }
  },
  {
   "cell_type": "code",
   "execution_count": 40,
   "outputs": [
    {
     "ename": "AttributeError",
     "evalue": "'function' object has no attribute 'setter'",
     "output_type": "error",
     "traceback": [
      "\u001B[1;31m---------------------------------------------------------------------------\u001B[0m",
      "\u001B[1;31mAttributeError\u001B[0m                            Traceback (most recent call last)",
      "\u001B[1;32m~\\AppData\\Local\\Temp/ipykernel_8608/3548193012.py\u001B[0m in \u001B[0;36m<module>\u001B[1;34m\u001B[0m\n\u001B[1;32m----> 1\u001B[1;33m \u001B[1;32mclass\u001B[0m \u001B[0mPerson\u001B[0m\u001B[1;33m:\u001B[0m\u001B[1;33m\u001B[0m\u001B[1;33m\u001B[0m\u001B[0m\n\u001B[0m\u001B[0;32m      2\u001B[0m     \u001B[1;32mdef\u001B[0m \u001B[0m__init__\u001B[0m\u001B[1;33m(\u001B[0m\u001B[0mself\u001B[0m\u001B[1;33m,\u001B[0m \u001B[0mname\u001B[0m\u001B[1;33m)\u001B[0m\u001B[1;33m:\u001B[0m\u001B[1;33m\u001B[0m\u001B[1;33m\u001B[0m\u001B[0m\n\u001B[0;32m      3\u001B[0m         \u001B[0mself\u001B[0m\u001B[1;33m.\u001B[0m\u001B[0m_name\u001B[0m \u001B[1;33m=\u001B[0m \u001B[0mname\u001B[0m\u001B[1;33m\u001B[0m\u001B[1;33m\u001B[0m\u001B[0m\n\u001B[0;32m      4\u001B[0m     \u001B[1;31m# @property\u001B[0m\u001B[1;33m\u001B[0m\u001B[1;33m\u001B[0m\u001B[0m\n\u001B[0;32m      5\u001B[0m     \u001B[1;32mdef\u001B[0m \u001B[0mname\u001B[0m\u001B[1;33m(\u001B[0m\u001B[0mself\u001B[0m\u001B[1;33m)\u001B[0m\u001B[1;33m:\u001B[0m\u001B[1;33m\u001B[0m\u001B[1;33m\u001B[0m\u001B[0m\n",
      "\u001B[1;32m~\\AppData\\Local\\Temp/ipykernel_8608/3548193012.py\u001B[0m in \u001B[0;36mPerson\u001B[1;34m()\u001B[0m\n\u001B[0;32m      5\u001B[0m     \u001B[1;32mdef\u001B[0m \u001B[0mname\u001B[0m\u001B[1;33m(\u001B[0m\u001B[0mself\u001B[0m\u001B[1;33m)\u001B[0m\u001B[1;33m:\u001B[0m\u001B[1;33m\u001B[0m\u001B[1;33m\u001B[0m\u001B[0m\n\u001B[0;32m      6\u001B[0m         \u001B[1;32mreturn\u001B[0m \u001B[0mself\u001B[0m\u001B[1;33m.\u001B[0m\u001B[0m_name\u001B[0m\u001B[1;33m\u001B[0m\u001B[1;33m\u001B[0m\u001B[0m\n\u001B[1;32m----> 7\u001B[1;33m     \u001B[1;33m@\u001B[0m\u001B[0mname\u001B[0m\u001B[1;33m.\u001B[0m\u001B[0msetter\u001B[0m\u001B[1;33m\u001B[0m\u001B[1;33m\u001B[0m\u001B[0m\n\u001B[0m\u001B[0;32m      8\u001B[0m     \u001B[1;32mdef\u001B[0m \u001B[0mname\u001B[0m\u001B[1;33m(\u001B[0m\u001B[0mself\u001B[0m\u001B[1;33m,\u001B[0m \u001B[0mnew_name\u001B[0m\u001B[1;33m)\u001B[0m\u001B[1;33m:\u001B[0m\u001B[1;33m\u001B[0m\u001B[1;33m\u001B[0m\u001B[0m\n\u001B[0;32m      9\u001B[0m         \u001B[0mself\u001B[0m\u001B[1;33m.\u001B[0m\u001B[0m_name\u001B[0m \u001B[1;33m=\u001B[0m \u001B[0mnew_name\u001B[0m\u001B[1;33m\u001B[0m\u001B[1;33m\u001B[0m\u001B[0m\n",
      "\u001B[1;31mAttributeError\u001B[0m: 'function' object has no attribute 'setter'"
     ]
    }
   ],
   "source": [
    "class Person:\n",
    "    def __init__(self, name):\n",
    "        self._name = name\n",
    "    # @property\n",
    "    def name(self):\n",
    "        return self._name\n",
    "    @name.setter\n",
    "    def name(self, new_name):\n",
    "        self._name = new_name"
   ],
   "metadata": {
    "collapsed": false,
    "pycharm": {
     "name": "#%%\n"
    }
   }
  },
  {
   "cell_type": "markdown",
   "source": [
    "****Why is there an error?****"
   ],
   "metadata": {
    "collapsed": false,
    "pycharm": {
     "name": "#%% md\n"
    }
   }
  },
  {
   "cell_type": "markdown",
   "source": [
    "When you use the @property decorator, Python is actually making a property object. This object has a .setter method.\n",
    "\n",
    "If @property is commented out, there is no property object. So Python assumes that .setter is a method on the @name class, but that class does not exist. That is why you see the error AttributeError: ‘function’ object has no attribute ‘setter’."
   ],
   "metadata": {
    "collapsed": false,
    "pycharm": {
     "name": "#%% md\n"
    }
   }
  },
  {
   "cell_type": "markdown",
   "source": [
    "### Data Validation\n",
    "The Person class below has the instance variables _name and _age. It also has getters and setters for both. Notice that the object c has its _name attribute changed to False and its _age set to -17."
   ],
   "metadata": {
    "collapsed": false,
    "pycharm": {
     "name": "#%% md\n"
    }
   }
  },
  {
   "cell_type": "markdown",
   "source": [
    "The Person class below has the instance variables _name and _age. It also has getters and setters for both. Notice that the object c has its _name attribute changed to False and its _age set to -17."
   ],
   "metadata": {
    "collapsed": false,
    "pycharm": {
     "name": "#%% md\n"
    }
   }
  },
  {
   "cell_type": "code",
   "execution_count": 53,
   "outputs": [],
   "source": [
    "class Person:\n",
    "    def __init__(self, name, age):\n",
    "        self._name = name\n",
    "        self._age = age\n",
    "\n",
    "    @property\n",
    "    def name(self):\n",
    "        return self._name\n",
    "    @name.setter\n",
    "    def name(self, new_name):\n",
    "        self._name = new_name\n",
    "    @property\n",
    "    def age(self):\n",
    "        return self._age\n",
    "    @age.setter\n",
    "    def age(self, new_age):\n",
    "        self._age = new_age"
   ],
   "metadata": {
    "collapsed": false,
    "pycharm": {
     "name": "#%%\n"
    }
   }
  },
  {
   "cell_type": "code",
   "execution_count": 54,
   "outputs": [
    {
     "name": "stdout",
     "output_type": "stream",
     "text": [
      "Calvin\n",
      "6\n",
      "False\n",
      "-17\n"
     ]
    }
   ],
   "source": [
    "c = Person(\"Calvin\", \"6\")\n",
    "print(c.name)\n",
    "print(c.age)\n",
    "c.age = -17\n",
    "c.name = False\n",
    "print(c.name)\n",
    "print(c.age)"
   ],
   "metadata": {
    "collapsed": false,
    "pycharm": {
     "name": "#%%\n"
    }
   }
  },
  {
   "cell_type": "markdown",
   "source": [
    "To Python, this is acceptable; no errors were made. To a human, however, a name should be expressed as a string and an age should be a positive\n",
    "number. Data validation is the process of asking if this data is appropriate for its intended use. Setters allow you to validate the data before changing the object. Modify the setter for name so that it checks to see the data type of new_name is not a string. If this is the case, raise an exception and display an error message to the user."
   ],
   "metadata": {
    "collapsed": false,
    "pycharm": {
     "name": "#%% md\n"
    }
   }
  },
  {
   "cell_type": "code",
   "execution_count": 61,
   "outputs": [],
   "source": [
    "class Person:\n",
    "    def __init__(self, name, age):\n",
    "        self._name = name\n",
    "        self._age = age\n",
    "\n",
    "    @property\n",
    "    def name(self):\n",
    "        return self._name\n",
    "    @name.setter\n",
    "    def name(self, new_name):\n",
    "        if type(new_name) != str:\n",
    "            raise TypeError(\"new_name must be a string\")\n",
    "        self._name = new_name\n",
    "    @property\n",
    "    def age(self):\n",
    "        return self._age\n",
    "    @age.setter\n",
    "    def age(self, new_age):\n",
    "        if new_age < 0:\n",
    "            raise  TypeError(\"new_age must be a positive number\")\n",
    "        self._age = new_age\n"
   ],
   "metadata": {
    "collapsed": false,
    "pycharm": {
     "name": "#%%\n"
    }
   }
  },
  {
   "cell_type": "code",
   "execution_count": 62,
   "outputs": [],
   "source": [
    "c = Person(\"Kelvin\", 10)"
   ],
   "metadata": {
    "collapsed": false,
    "pycharm": {
     "name": "#%%\n"
    }
   }
  },
  {
   "cell_type": "code",
   "execution_count": 63,
   "outputs": [
    {
     "ename": "TypeError",
     "evalue": "new_name must be a string",
     "output_type": "error",
     "traceback": [
      "\u001B[1;31m---------------------------------------------------------------------------\u001B[0m",
      "\u001B[1;31mTypeError\u001B[0m                                 Traceback (most recent call last)",
      "\u001B[1;32m~\\AppData\\Local\\Temp/ipykernel_8608/36299007.py\u001B[0m in \u001B[0;36m<module>\u001B[1;34m\u001B[0m\n\u001B[1;32m----> 1\u001B[1;33m \u001B[0mc\u001B[0m\u001B[1;33m.\u001B[0m\u001B[0mname\u001B[0m \u001B[1;33m=\u001B[0m \u001B[1;36m10\u001B[0m\u001B[1;33m\u001B[0m\u001B[1;33m\u001B[0m\u001B[0m\n\u001B[0m",
      "\u001B[1;32m~\\AppData\\Local\\Temp/ipykernel_8608/2587230957.py\u001B[0m in \u001B[0;36mname\u001B[1;34m(self, new_name)\u001B[0m\n\u001B[0;32m     10\u001B[0m     \u001B[1;32mdef\u001B[0m \u001B[0mname\u001B[0m\u001B[1;33m(\u001B[0m\u001B[0mself\u001B[0m\u001B[1;33m,\u001B[0m \u001B[0mnew_name\u001B[0m\u001B[1;33m)\u001B[0m\u001B[1;33m:\u001B[0m\u001B[1;33m\u001B[0m\u001B[1;33m\u001B[0m\u001B[0m\n\u001B[0;32m     11\u001B[0m         \u001B[1;32mif\u001B[0m \u001B[0mtype\u001B[0m\u001B[1;33m(\u001B[0m\u001B[0mnew_name\u001B[0m\u001B[1;33m)\u001B[0m \u001B[1;33m!=\u001B[0m \u001B[0mstr\u001B[0m\u001B[1;33m:\u001B[0m\u001B[1;33m\u001B[0m\u001B[1;33m\u001B[0m\u001B[0m\n\u001B[1;32m---> 12\u001B[1;33m             \u001B[1;32mraise\u001B[0m \u001B[0mTypeError\u001B[0m\u001B[1;33m(\u001B[0m\u001B[1;34m\"new_name must be a string\"\u001B[0m\u001B[1;33m)\u001B[0m\u001B[1;33m\u001B[0m\u001B[1;33m\u001B[0m\u001B[0m\n\u001B[0m\u001B[0;32m     13\u001B[0m         \u001B[0mself\u001B[0m\u001B[1;33m.\u001B[0m\u001B[0m_name\u001B[0m \u001B[1;33m=\u001B[0m \u001B[0mnew_name\u001B[0m\u001B[1;33m\u001B[0m\u001B[1;33m\u001B[0m\u001B[0m\n\u001B[0;32m     14\u001B[0m     \u001B[1;33m@\u001B[0m\u001B[0mproperty\u001B[0m\u001B[1;33m\u001B[0m\u001B[1;33m\u001B[0m\u001B[0m\n",
      "\u001B[1;31mTypeError\u001B[0m: new_name must be a string"
     ]
    }
   ],
   "source": [
    "c.name = 10"
   ],
   "metadata": {
    "collapsed": false,
    "pycharm": {
     "name": "#%%\n"
    }
   }
  },
  {
   "cell_type": "markdown",
   "source": [
    "#### Getters and Setters with the Property Function\n",
    "##### Getters with the Property Function\n",
    "On the previous pages, we saw how to implement getters and setters with the @property decorator. The same functionality can be added by using the property method. Start with the Person class. Remove the @property decorator and change the name of the getter to get_name."
   ],
   "metadata": {
    "collapsed": false,
    "pycharm": {
     "name": "#%% md\n"
    }
   }
  },
  {
   "cell_type": "code",
   "execution_count": 64,
   "outputs": [],
   "source": [
    "class Person:\n",
    "    def __init__(self, name):\n",
    "        self._name = name\n",
    "    def get_name(self):\n",
    "        return self._name\n",
    "\n",
    "    name = property(get_name)"
   ],
   "metadata": {
    "collapsed": false,
    "pycharm": {
     "name": "#%%\n"
    }
   }
  },
  {
   "cell_type": "code",
   "execution_count": 65,
   "outputs": [
    {
     "data": {
      "text/plain": "'Calvin'"
     },
     "execution_count": 65,
     "metadata": {},
     "output_type": "execute_result"
    }
   ],
   "source": [
    "c = Person(\"Calvin\")\n",
    "c.name"
   ],
   "metadata": {
    "collapsed": false,
    "pycharm": {
     "name": "#%%\n"
    }
   }
  },
  {
   "cell_type": "markdown",
   "source": [],
   "metadata": {
    "collapsed": false,
    "pycharm": {
     "name": "#%% md\n"
    }
   }
  },
  {
   "cell_type": "markdown",
   "source": [
    "Since name will be used as the getter and setter, create the variable name and set its value to property(get_name). Instantiate an object with \"Calvin\" and invoke the getter"
   ],
   "metadata": {
    "collapsed": false,
    "pycharm": {
     "name": "#%% md\n"
    }
   }
  },
  {
   "cell_type": "code",
   "execution_count": 67,
   "outputs": [],
   "source": [
    "class Person:\n",
    "    def __init__(self, name, age):\n",
    "        self._name = name\n",
    "        self._age = age\n",
    "    def get_name(self):\n",
    "        return self._name\n",
    "\n",
    "    def get_age(self):\n",
    "        return self._age\n",
    "    name = property(get_name)\n",
    "    age = property(get_age)"
   ],
   "metadata": {
    "collapsed": false,
    "pycharm": {
     "name": "#%%\n"
    }
   }
  },
  {
   "cell_type": "code",
   "execution_count": 68,
   "outputs": [
    {
     "data": {
      "text/plain": "16"
     },
     "execution_count": 68,
     "metadata": {},
     "output_type": "execute_result"
    }
   ],
   "source": [
    "c = Person(\"Calvin\", 16)\n",
    "c.name\n",
    "c.age"
   ],
   "metadata": {
    "collapsed": false,
    "pycharm": {
     "name": "#%%\n"
    }
   }
  },
  {
   "cell_type": "code",
   "execution_count": 73,
   "outputs": [
    {
     "name": "stdout",
     "output_type": "stream",
     "text": [
      "We haven set a setter, so we \n",
      "can't set attribute\n"
     ]
    }
   ],
   "source": [
    "try:\n",
    "    c.age = 20\n",
    "except AttributeError as aerr:\n",
    "    print(\"We haven set a setter, so we \")\n",
    "    print(aerr)"
   ],
   "metadata": {
    "collapsed": false,
    "pycharm": {
     "name": "#%%\n"
    }
   }
  },
  {
   "cell_type": "markdown",
   "source": [
    "## Setters with the Property Function\n",
    "Creating a setter is done in a similar manner. Create set_name as a method to update the _name attribute. Then add set_name to the property function.\n",
    "\n",
    "#### Order is Important\n",
    "When adding the getter and setter to the property function, it is the getter that always goes first. The setter is always second.\n"
   ],
   "metadata": {
    "collapsed": false,
    "pycharm": {
     "name": "#%% md\n"
    }
   }
  },
  {
   "cell_type": "code",
   "execution_count": 75,
   "outputs": [],
   "source": [
    "class Person:\n",
    "    def __init__(self, name):\n",
    "        self._name = name\n",
    "\n",
    "    def get_name(self):\n",
    "        return self._name\n",
    "\n",
    "    def set_name(self, new_name):\n",
    "        self._name = new_name\n",
    "\n",
    "    name = property(get_name, set_name)"
   ],
   "metadata": {
    "collapsed": false,
    "pycharm": {
     "name": "#%%\n"
    }
   }
  },
  {
   "cell_type": "code",
   "execution_count": 76,
   "outputs": [
    {
     "data": {
      "text/plain": "'Kelvin'"
     },
     "execution_count": 76,
     "metadata": {},
     "output_type": "execute_result"
    }
   ],
   "source": [
    "c = Person(\"Kelvin\")\n",
    "c.name"
   ],
   "metadata": {
    "collapsed": false,
    "pycharm": {
     "name": "#%%\n"
    }
   }
  },
  {
   "cell_type": "code",
   "execution_count": 77,
   "outputs": [
    {
     "data": {
      "text/plain": "'Calvin'"
     },
     "execution_count": 77,
     "metadata": {},
     "output_type": "execute_result"
    }
   ],
   "source": [
    "c.name = \"Calvin\"\n",
    "c.name"
   ],
   "metadata": {
    "collapsed": false,
    "pycharm": {
     "name": "#%%\n"
    }
   }
  },
  {
   "cell_type": "code",
   "execution_count": 79,
   "outputs": [],
   "source": [
    "class Person:\n",
    "    def __init__(self, name, age):\n",
    "        self._name = name\n",
    "        self._age = age\n",
    "\n",
    "    def get_name(self):\n",
    "        return self._name\n",
    "\n",
    "    def set_name(self, new_name):\n",
    "        self._name = new_name\n",
    "\n",
    "    def get_age(self):\n",
    "        return self._age\n",
    "\n",
    "    def set_age(self, new_age):\n",
    "        self._age = new_age\n",
    "\n",
    "    name = property(get_name, set_name)\n",
    "    age = property(get_age, set_age)"
   ],
   "metadata": {
    "collapsed": false,
    "pycharm": {
     "name": "#%%\n"
    }
   }
  },
  {
   "cell_type": "code",
   "execution_count": 80,
   "outputs": [
    {
     "name": "stdout",
     "output_type": "stream",
     "text": [
      "Kelvin\n"
     ]
    },
    {
     "data": {
      "text/plain": "'Calvin'"
     },
     "execution_count": 80,
     "metadata": {},
     "output_type": "execute_result"
    }
   ],
   "source": [
    "c = Person(\"Kelvin\", 20)\n",
    "print(c.name)\n",
    "c.name = \"Calvin\"\n",
    "c.name"
   ],
   "metadata": {
    "collapsed": false,
    "pycharm": {
     "name": "#%%\n"
    }
   }
  },
  {
   "cell_type": "code",
   "execution_count": 81,
   "outputs": [
    {
     "name": "stdout",
     "output_type": "stream",
     "text": [
      "20\n"
     ]
    },
    {
     "data": {
      "text/plain": "30"
     },
     "execution_count": 81,
     "metadata": {},
     "output_type": "execute_result"
    }
   ],
   "source": [
    "print(c.age)\n",
    "c.age = 30\n",
    "c.age"
   ],
   "metadata": {
    "collapsed": false,
    "pycharm": {
     "name": "#%%\n"
    }
   }
  },
  {
   "cell_type": "code",
   "execution_count": null,
   "outputs": [],
   "source": [],
   "metadata": {
    "collapsed": false,
    "pycharm": {
     "name": "#%%\n"
    }
   }
  }
 ],
 "metadata": {
  "kernelspec": {
   "display_name": "Python 3",
   "language": "python",
   "name": "python3"
  },
  "language_info": {
   "codemirror_mode": {
    "name": "ipython",
    "version": 2
   },
   "file_extension": ".py",
   "mimetype": "text/x-python",
   "name": "python",
   "nbconvert_exporter": "python",
   "pygments_lexer": "ipython2",
   "version": "2.7.6"
  }
 },
 "nbformat": 4,
 "nbformat_minor": 0
}