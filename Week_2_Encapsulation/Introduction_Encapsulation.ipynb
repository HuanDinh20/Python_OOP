{
 "cells": [
  {
   "cell_type": "markdown",
   "source": [
    "## Objective\n",
    "1. Define the term encapsulation\n",
    "2. Explain how Python implements private and public attributes\n",
    "3. Explain the limitations of Python conventions for encapsulation\n",
    "4. Differentiate between _attribute and __attribute\n",
    "\n",
    "##  What is Encapsulation?\n",
    "**Encapsulation** is a concept in which related **data and methods are grouped together**, and in which **access** to data is **restricted**.\n",
    "**Encapsulation = Group(data, method, restrict data access)***\n",
    "Grouping related data and methods == Thinking easier\n",
    "restrict == Hiding == Dont make unwanted changes\n",
    "data restrictions = Private + Public\n",
    "Public == instance can access attributes/ methods\n",
    "Private == Only class can access attributes/ methods\n",
    "Hiding or restricting how the user interacts with the data can keep the user from making unwanted changes.\n",
    "\n",
    "Grouping related data and methods makes thinking about your program a bit easier.\n",
    "\n",
    "The two main ideas of data restriction are public and private. These adjectives can refer to both attributes and methods. Public means that the\n",
    "attribute or method can be accessed by an instance of a class. Private means that the attribute or method can only be accessed by the class itself\n",
    "\n",
    "##### Python does not use the public and private keywords\n",
    "Some programming languages, like Java, explicitly use the keywords public and private (see the code snippet below). Python does not. Python\n",
    "still acknowledges public and private, but does so in a unique way\n",
    "\n",
    "## Classes as Encapsulation\n",
    "\n",
    "Classes in Python are a form of encapsulation; they group together related data and methods.\n",
    "By default, however, classes in Python do not hide or restrict access to data"
   ],
   "metadata": {
    "collapsed": false,
    "pycharm": {
     "name": "#%% md\n"
    }
   }
  },
  {
   "cell_type": "code",
   "execution_count": 45,
   "outputs": [
    {
     "name": "stdout",
     "output_type": "stream",
     "text": [
      "iPhone\n",
      "256\n",
      "12\n"
     ]
    }
   ],
   "source": [
    "class Phone:\n",
    "    def __init__(self, make, storage, megapixels):\n",
    "        self.make = make\n",
    "        self.storage = storage\n",
    "        self.megapixels = megapixels\n",
    "\n",
    "my_phone = Phone(\"iPhone\", 256, 12)\n",
    "print(my_phone.make)\n",
    "print(my_phone.storage)\n",
    "print(my_phone.megapixels)"
   ],
   "metadata": {
    "collapsed": false,
    "pycharm": {
     "name": "#%%\n"
    }
   }
  },
  {
   "cell_type": "markdown",
   "source": [
    "#### No Data Restrictions\n",
    "A traditional class in Python does not provide any restrictions to accessing\n",
    "data because everything is public by default. That means any instance of\n",
    "the Phone class can change its attributes."
   ],
   "metadata": {
    "collapsed": false,
    "pycharm": {
     "name": "#%% md\n"
    }
   }
  },
  {
   "cell_type": "code",
   "execution_count": 46,
   "outputs": [
    {
     "name": "stdout",
     "output_type": "stream",
     "text": [
      "256\n",
      "64\n"
     ]
    }
   ],
   "source": [
    "my_phone = Phone(\"iPhone\", 256, 12)\n",
    "print(my_phone.storage)\n",
    "my_phone.storage = 64\n",
    "print(my_phone.storage)"
   ],
   "metadata": {
    "collapsed": false,
    "pycharm": {
     "name": "#%%\n"
    }
   }
  },
  {
   "cell_type": "code",
   "execution_count": 47,
   "outputs": [],
   "source": [
    "my_phone.model = True"
   ],
   "metadata": {
    "collapsed": false,
    "pycharm": {
     "name": "#%%\n"
    }
   }
  },
  {
   "cell_type": "code",
   "execution_count": 48,
   "outputs": [],
   "source": [
    "my_phone.megapixels = -32"
   ],
   "metadata": {
    "collapsed": false,
    "pycharm": {
     "name": "#%%\n"
    }
   }
  },
  {
   "cell_type": "markdown",
   "source": [
    "**Why restrict data access?**\n",
    "Having public instance variables might not seem like a bad idea.\n",
    "The three variations you just coded either changed the data type or changed the value to something that does not make sense given the current context.\n",
    "Because these instance variables now have unexpected values or data types, you may see bugs appear in your code.\n",
    "\n",
    "**Public instance variables increase the possibility for errors**. We will see later on how encapsulation can be used to protect your code from such errors."
   ],
   "metadata": {
    "collapsed": false,
    "pycharm": {
     "name": "#%% md\n"
    }
   }
  },
  {
   "cell_type": "markdown",
   "source": [
    "## Encapsulation Through Convention\n",
    "We saw how attributes and methods in a class are public by default in Python. We also talked about how Python does not use the public and\n",
    "private keywords. Instead, **the Python community relies on a convention to signify private methods and instance variables**\n"
   ],
   "metadata": {
    "collapsed": false,
    "pycharm": {
     "name": "#%% md\n"
    }
   }
  },
  {
   "cell_type": "markdown",
   "source": [
    "When programmers use a single underscore (_) before an attribute or method name, that attribute or method is considered to be private."
   ],
   "metadata": {
    "collapsed": false,
    "pycharm": {
     "name": "#%% md\n"
    }
   }
  },
  {
   "cell_type": "code",
   "execution_count": 49,
   "outputs": [],
   "source": [
    "class Phone:\n",
    "    def __init__(self, model, storage, megapixels):\n",
    "        self._model = model\n",
    "        self._storage = storage\n",
    "        self._megapixels = megapixels\n",
    "    def _abc(self):\n",
    "        return  self"
   ],
   "metadata": {
    "collapsed": false,
    "pycharm": {
     "name": "#%%\n"
    }
   }
  },
  {
   "cell_type": "code",
   "execution_count": 50,
   "outputs": [],
   "source": [
    "my_phone = Phone(\"iPhone\", 256, 12)"
   ],
   "metadata": {
    "collapsed": false,
    "pycharm": {
     "name": "#%%\n"
    }
   }
  },
  {
   "cell_type": "code",
   "execution_count": 51,
   "outputs": [
    {
     "data": {
      "text/plain": "{'_model': 'iPhone', '_storage': 256, '_megapixels': 12}"
     },
     "execution_count": 51,
     "metadata": {},
     "output_type": "execute_result"
    }
   ],
   "source": [
    "my_phone.__dict__"
   ],
   "metadata": {
    "collapsed": false,
    "pycharm": {
     "name": "#%%\n"
    }
   }
  },
  {
   "cell_type": "code",
   "execution_count": 52,
   "outputs": [
    {
     "data": {
      "text/plain": "['_model',\n '_storage',\n '_megapixels',\n '__module__',\n '__init__',\n '_abc',\n '__dict__',\n '__weakref__',\n '__doc__',\n '__repr__',\n '__hash__',\n '__str__',\n '__getattribute__',\n '__setattr__',\n '__delattr__',\n '__lt__',\n '__le__',\n '__eq__',\n '__ne__',\n '__gt__',\n '__ge__',\n '__new__',\n '__reduce_ex__',\n '__reduce__',\n '__subclasshook__',\n '__init_subclass__',\n '__format__',\n '__sizeof__',\n '__dir__',\n '__class__']"
     },
     "execution_count": 52,
     "metadata": {},
     "output_type": "execute_result"
    }
   ],
   "source": [
    "my_phone.__dir__()"
   ],
   "metadata": {
    "collapsed": false,
    "pycharm": {
     "name": "#%%\n"
    }
   }
  },
  {
   "cell_type": "markdown",
   "source": [
    "These are all of the attributes in the Phone class as well as their values."
   ],
   "metadata": {
    "collapsed": false,
    "pycharm": {
     "name": "#%% md\n"
    }
   }
  },
  {
   "cell_type": "markdown",
   "source": [
    "### Does the Single Underscore Really Mean Private\n",
    "**No**. The single underscore is a convention. That is, an informal agreement to recognize that attributes and methods with a single underscore are private. The Python interpreter does not enforce any restrictions that make these attributes private."
   ],
   "metadata": {
    "collapsed": false,
    "pycharm": {
     "name": "#%% md\n"
    }
   }
  },
  {
   "cell_type": "code",
   "execution_count": 53,
   "outputs": [],
   "source": [
    "class PrivateClass:\n",
    "    def __init__(self):\n",
    "        self._private_info = \"If it is really private, How can you still see it?\""
   ],
   "metadata": {
    "collapsed": false,
    "pycharm": {
     "name": "#%%\n"
    }
   }
  },
  {
   "cell_type": "code",
   "execution_count": 54,
   "outputs": [
    {
     "data": {
      "text/plain": "'If it is really private, How can you still see it?'"
     },
     "execution_count": 54,
     "metadata": {},
     "output_type": "execute_result"
    }
   ],
   "source": [
    "private = PrivateClass()\n",
    "private._private_info"
   ],
   "metadata": {
    "collapsed": false,
    "pycharm": {
     "name": "#%%\n"
    }
   }
  },
  {
   "cell_type": "markdown",
   "source": [
    "If _private_attribute really were **private**, Python would throw an **error message**. Instead, Python sees _private_attribute as being public and prints its value. Python does not have truly private attributes and methods, though Python can approximate this behavior"
   ],
   "metadata": {
    "collapsed": false,
    "pycharm": {
     "name": "#%% md\n"
    }
   }
  },
  {
   "cell_type": "code",
   "execution_count": 55,
   "outputs": [],
   "source": [
    "class PrivateClass:\n",
    "    def __init__(self):\n",
    "        self._private_attribute = \"If it is really private, How can you still see it?\"\n",
    "\n",
    "    def _private_method(self):\n",
    "        print(\"This is private method, How can you still see it?\")"
   ],
   "metadata": {
    "collapsed": false,
    "pycharm": {
     "name": "#%%\n"
    }
   }
  },
  {
   "cell_type": "code",
   "execution_count": 56,
   "outputs": [
    {
     "name": "stdout",
     "output_type": "stream",
     "text": [
      "This is private method, How can you still see it?\n"
     ]
    }
   ],
   "source": [
    "p = PrivateClass()\n",
    "p._private_method()"
   ],
   "metadata": {
    "collapsed": false,
    "pycharm": {
     "name": "#%%\n"
    }
   }
  },
  {
   "cell_type": "markdown",
   "source": [
    "### Double Underscore\n",
    "When you have a single underscore, the Python interpreter does not do anything. It is just a convention. Using two underscores, however, causes\n",
    "the Python interpreter to enforce changes.\n",
    "\n",
    "Python gives you an approximation of private attributes when using double underscores."
   ],
   "metadata": {
    "collapsed": false,
    "pycharm": {
     "name": "#%% md\n"
    }
   }
  },
  {
   "cell_type": "code",
   "execution_count": 57,
   "outputs": [],
   "source": [
    "class PrivateClass:\n",
    "    def __init__(self):\n",
    "        self.__private_attribute = \"If it is really private, How can you still see it?\"\n",
    "\n",
    "    def __private_method(self):\n",
    "        print(\"This is private method, How can you still see it?\")"
   ],
   "metadata": {
    "collapsed": false,
    "pycharm": {
     "name": "#%%\n"
    }
   }
  },
  {
   "cell_type": "code",
   "execution_count": 58,
   "outputs": [
    {
     "name": "stdout",
     "output_type": "stream",
     "text": [
      "'PrivateClass' object has no attribute '__private_attribute'\n"
     ]
    }
   ],
   "source": [
    "p = PrivateClass()\n",
    "try:\n",
    "    p.__private_attribute\n",
    "except AttributeError as at:\n",
    "    print(at)"
   ],
   "metadata": {
    "collapsed": false,
    "pycharm": {
     "name": "#%%\n"
    }
   }
  },
  {
   "cell_type": "markdown",
   "source": [
    "You should see an error message about PrivateClass not having the attribute __private_attribute. Python does not allow you to access\n",
    "__private_attribute from outside the class."
   ],
   "metadata": {
    "collapsed": false,
    "pycharm": {
     "name": "#%% md\n"
    }
   }
  },
  {
   "cell_type": "code",
   "execution_count": 59,
   "outputs": [],
   "source": [
    "class PrivateClass:\n",
    "    def __init__(self):\n",
    "        self.__private_attribute = \"If it is really private, How can you still see it?\"\n",
    "\n",
    "    def __private_method(self):\n",
    "        print(\"This is private method, How can you still see it?\")\n",
    "\n",
    "    def helper_method(self):\n",
    "        return self.__private_method()"
   ],
   "metadata": {
    "collapsed": false,
    "pycharm": {
     "name": "#%%\n"
    }
   }
  },
  {
   "cell_type": "code",
   "execution_count": 60,
   "outputs": [
    {
     "name": "stdout",
     "output_type": "stream",
     "text": [
      "This is private method, How can you still see it?\n"
     ]
    }
   ],
   "source": [
    "p = PrivateClass()\n",
    "p.helper_method()"
   ],
   "metadata": {
    "collapsed": false,
    "pycharm": {
     "name": "#%%\n"
    }
   }
  },
  {
   "cell_type": "markdown",
   "source": [
    "#### Private Methods\n",
    "You can also use the double underscores to restrict access to methods."
   ],
   "metadata": {
    "collapsed": false,
    "pycharm": {
     "name": "#%% md\n"
    }
   }
  },
  {
   "cell_type": "markdown",
   "source": [
    "### Are Double Underscores Really Private?\n",
    "\n",
    "**No**. Double underscores were not added to the Python language to promote encapsulation.\n",
    "Rather, the double underscore is used to avoid name collisions in inheritance."
   ],
   "metadata": {
    "collapsed": false,
    "pycharm": {
     "name": "#%% md\n"
    }
   }
  },
  {
   "cell_type": "code",
   "execution_count": 61,
   "outputs": [
    {
     "data": {
      "text/plain": "'If it is really private, How can you still see it?'"
     },
     "execution_count": 61,
     "metadata": {},
     "output_type": "execute_result"
    }
   ],
   "source": [
    "p._PrivateClass__private_attribute"
   ],
   "metadata": {
    "collapsed": false,
    "pycharm": {
     "name": "#%%\n"
    }
   }
  },
  {
   "cell_type": "markdown",
   "source": [
    "When the Python interpreter encounters an attribute with a double underscore, it does not make it private.\n",
    "\n",
    "Instead, it changes the name to _ClassName__AttributeName. That is why Python returns and error for print(obj.__private_attribute). __private_attribute does not exist. It has\n",
    "been renamed to _PrivateClass__private_attribute."
   ],
   "metadata": {
    "collapsed": false,
    "pycharm": {
     "name": "#%% md\n"
    }
   }
  },
  {
   "cell_type": "code",
   "execution_count": 62,
   "outputs": [],
   "source": [
    "p._PrivateClass__private_attribute =  \"If it is really private, How can you still see it?, And now i change it\""
   ],
   "metadata": {
    "collapsed": false,
    "pycharm": {
     "name": "#%%\n"
    }
   }
  },
  {
   "cell_type": "code",
   "execution_count": 63,
   "outputs": [
    {
     "data": {
      "text/plain": "'If it is really private, How can you still see it?, And now i change it'"
     },
     "execution_count": 63,
     "metadata": {},
     "output_type": "execute_result"
    }
   ],
   "source": [
    "p._PrivateClass__private_attribute"
   ],
   "metadata": {
    "collapsed": false,
    "pycharm": {
     "name": "#%%\n"
    }
   }
  },
  {
   "cell_type": "markdown",
   "source": [
    "This whole process is called name mangling, and it is designed to avoid name collisions in inheritance. Name mangling, however, gives the appearance of private attributes and methods"
   ],
   "metadata": {
    "collapsed": false,
    "pycharm": {
     "name": "#%% md\n"
    }
   }
  },
  {
   "cell_type": "markdown",
   "source": [
    "name_magling == __name_this_method_like_this ==>>>> avoid name collisions in inheritance"
   ],
   "metadata": {
    "collapsed": false,
    "pycharm": {
     "name": "#%% md\n"
    }
   }
  }
 ],
 "metadata": {
  "kernelspec": {
   "display_name": "Python 3",
   "language": "python",
   "name": "python3"
  },
  "language_info": {
   "codemirror_mode": {
    "name": "ipython",
    "version": 2
   },
   "file_extension": ".py",
   "mimetype": "text/x-python",
   "name": "python",
   "nbconvert_exporter": "python",
   "pygments_lexer": "ipython2",
   "version": "2.7.6"
  }
 },
 "nbformat": 4,
 "nbformat_minor": 0
}